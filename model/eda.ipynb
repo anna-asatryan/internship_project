{
 "cells": [
  {
   "cell_type": "markdown",
   "metadata": {
    "editable": true,
    "slideshow": {
     "slide_type": "slide"
    },
    "tags": []
   },
   "source": [
    "# Customer Behavioral Segmentation"
   ]
  },
  {
   "cell_type": "code",
   "execution_count": 1,
   "metadata": {},
   "outputs": [],
   "source": [
    "import numpy as np\n",
    "import pandas as pd\n",
    "import matplotlib.pyplot as plt\n",
    "import seaborn as sns\n",
    "import plotly.graph_objects as go"
   ]
  },
  {
   "cell_type": "code",
   "execution_count": 2,
   "metadata": {
    "editable": true,
    "slideshow": {
     "slide_type": ""
    },
    "tags": []
   },
   "outputs": [],
   "source": [
    "df1 = pd.read_csv('large_data/DEVICE_DIRECTORY.csv')"
   ]
  },
  {
   "cell_type": "code",
   "execution_count": 3,
   "metadata": {},
   "outputs": [],
   "source": [
    "df2 = pd.read_csv('large_data/SUB_DEVICE_DIRECTORY.csv')"
   ]
  },
  {
   "cell_type": "code",
   "execution_count": 4,
   "metadata": {},
   "outputs": [],
   "source": [
    "pd.set_option('display.max_columns',None)"
   ]
  },
  {
   "cell_type": "markdown",
   "metadata": {
    "editable": false,
    "slideshow": {
     "slide_type": "slide"
    },
    "tags": []
   },
   "source": [
    "### Adjusting dates and creating 'DEVICE_AGE' column which shows the the number of days customers take to adopt a device after its release."
   ]
  },
  {
   "cell_type": "code",
   "execution_count": 5,
   "metadata": {
    "editable": true,
    "slideshow": {
     "slide_type": ""
    },
    "tags": []
   },
   "outputs": [
    {
     "data": {
      "text/html": [
       "<div>\n",
       "<style scoped>\n",
       "    .dataframe tbody tr th:only-of-type {\n",
       "        vertical-align: middle;\n",
       "    }\n",
       "\n",
       "    .dataframe tbody tr th {\n",
       "        vertical-align: top;\n",
       "    }\n",
       "\n",
       "    .dataframe thead th {\n",
       "        text-align: right;\n",
       "    }\n",
       "</style>\n",
       "<table border=\"1\" class=\"dataframe\">\n",
       "  <thead>\n",
       "    <tr style=\"text-align: right;\">\n",
       "      <th></th>\n",
       "      <th>ID</th>\n",
       "      <th>DEVICE_ID</th>\n",
       "      <th>BRAND</th>\n",
       "      <th>MODEL</th>\n",
       "      <th>NETTYPE</th>\n",
       "      <th>OS</th>\n",
       "      <th>OS_TYPE_x</th>\n",
       "      <th>START_DATE</th>\n",
       "      <th>END_DATE</th>\n",
       "      <th>DAYS_USED</th>\n",
       "      <th>AVG_DAYS_USED</th>\n",
       "      <th>SUPPORTS_LTE</th>\n",
       "      <th>SUPPORTS_VOLTE</th>\n",
       "      <th>BATTERY_CAPACITY</th>\n",
       "      <th>BATTERY_TYPE</th>\n",
       "      <th>BODY_DEPTH</th>\n",
       "      <th>BODY_HEIGHT</th>\n",
       "      <th>BODY_WIDTH</th>\n",
       "      <th>BODY_TYPE</th>\n",
       "      <th>OS_TYPE_y</th>\n",
       "      <th>OS_VENDOR</th>\n",
       "      <th>CAMERA_FLASHLIGHT</th>\n",
       "      <th>SUPPORTS_MULTISIM</th>\n",
       "      <th>SUPPORTS_ESIM</th>\n",
       "      <th>SUPPORT_5G</th>\n",
       "      <th>SIM_COUNT</th>\n",
       "      <th>CPU_CORES</th>\n",
       "      <th>MULTISIM_MODE</th>\n",
       "      <th>PIXEL_DENSITY</th>\n",
       "      <th>RAM_SIZE</th>\n",
       "      <th>RELEASE_DATE</th>\n",
       "      <th>BAND_1800</th>\n",
       "      <th>BAND_1900</th>\n",
       "      <th>BAND_850</th>\n",
       "      <th>BAND_900</th>\n",
       "      <th>DEVICE_AGE</th>\n",
       "    </tr>\n",
       "  </thead>\n",
       "  <tbody>\n",
       "    <tr>\n",
       "      <th>0</th>\n",
       "      <td>4397787</td>\n",
       "      <td>35230713</td>\n",
       "      <td>Samsung</td>\n",
       "      <td>Galaxy A12</td>\n",
       "      <td>4G</td>\n",
       "      <td>Android</td>\n",
       "      <td>smartphone</td>\n",
       "      <td>2024-01-31</td>\n",
       "      <td>2024-07-12</td>\n",
       "      <td>193</td>\n",
       "      <td>616.0</td>\n",
       "      <td>1</td>\n",
       "      <td>1</td>\n",
       "      <td>5000.0</td>\n",
       "      <td>Li-ion</td>\n",
       "      <td>8.9</td>\n",
       "      <td>164.0</td>\n",
       "      <td>75.80</td>\n",
       "      <td>touch</td>\n",
       "      <td>Android</td>\n",
       "      <td>Google</td>\n",
       "      <td>1</td>\n",
       "      <td>1</td>\n",
       "      <td>0</td>\n",
       "      <td>0</td>\n",
       "      <td>2</td>\n",
       "      <td>8</td>\n",
       "      <td>dual standby</td>\n",
       "      <td>264.0</td>\n",
       "      <td>6156</td>\n",
       "      <td>2020-08-19</td>\n",
       "      <td>1</td>\n",
       "      <td>1</td>\n",
       "      <td>1</td>\n",
       "      <td>1</td>\n",
       "      <td>1260</td>\n",
       "    </tr>\n",
       "    <tr>\n",
       "      <th>1</th>\n",
       "      <td>4129638</td>\n",
       "      <td>35306809</td>\n",
       "      <td>Apple</td>\n",
       "      <td>iPhone SE</td>\n",
       "      <td>4G</td>\n",
       "      <td>iOS</td>\n",
       "      <td>smartphone</td>\n",
       "      <td>2022-04-30</td>\n",
       "      <td>2023-05-31</td>\n",
       "      <td>425</td>\n",
       "      <td>642.5</td>\n",
       "      <td>1</td>\n",
       "      <td>0</td>\n",
       "      <td>1642.0</td>\n",
       "      <td>Li-ion</td>\n",
       "      <td>7.6</td>\n",
       "      <td>123.8</td>\n",
       "      <td>58.60</td>\n",
       "      <td>touch</td>\n",
       "      <td>iOS</td>\n",
       "      <td>Apple</td>\n",
       "      <td>1</td>\n",
       "      <td>0</td>\n",
       "      <td>0</td>\n",
       "      <td>0</td>\n",
       "      <td>1</td>\n",
       "      <td>2</td>\n",
       "      <td>Standby</td>\n",
       "      <td>326.0</td>\n",
       "      <td>2048</td>\n",
       "      <td>2016-03-01</td>\n",
       "      <td>1</td>\n",
       "      <td>1</td>\n",
       "      <td>1</td>\n",
       "      <td>1</td>\n",
       "      <td>2251</td>\n",
       "    </tr>\n",
       "    <tr>\n",
       "      <th>2</th>\n",
       "      <td>1154183</td>\n",
       "      <td>86887805</td>\n",
       "      <td>OnePlus</td>\n",
       "      <td>Nord N100</td>\n",
       "      <td>4G</td>\n",
       "      <td>Android</td>\n",
       "      <td>smartphone</td>\n",
       "      <td>2021-11-30</td>\n",
       "      <td>2024-07-12</td>\n",
       "      <td>984</td>\n",
       "      <td>564.8</td>\n",
       "      <td>1</td>\n",
       "      <td>1</td>\n",
       "      <td>5000.0</td>\n",
       "      <td>Li-polymer</td>\n",
       "      <td>8.5</td>\n",
       "      <td>164.9</td>\n",
       "      <td>75.10</td>\n",
       "      <td>touch</td>\n",
       "      <td>Android</td>\n",
       "      <td>Google</td>\n",
       "      <td>1</td>\n",
       "      <td>1</td>\n",
       "      <td>0</td>\n",
       "      <td>0</td>\n",
       "      <td>2</td>\n",
       "      <td>8</td>\n",
       "      <td>dual standby</td>\n",
       "      <td>269.0</td>\n",
       "      <td>6156</td>\n",
       "      <td>2020-05-21</td>\n",
       "      <td>1</td>\n",
       "      <td>1</td>\n",
       "      <td>1</td>\n",
       "      <td>1</td>\n",
       "      <td>558</td>\n",
       "    </tr>\n",
       "    <tr>\n",
       "      <th>3</th>\n",
       "      <td>670331</td>\n",
       "      <td>86296505</td>\n",
       "      <td>Xiaomi</td>\n",
       "      <td>Redmi 9T</td>\n",
       "      <td>4G</td>\n",
       "      <td>Android</td>\n",
       "      <td>smartphone</td>\n",
       "      <td>2021-05-31</td>\n",
       "      <td>2024-02-29</td>\n",
       "      <td>1034</td>\n",
       "      <td>624.8</td>\n",
       "      <td>1</td>\n",
       "      <td>1</td>\n",
       "      <td>6000.0</td>\n",
       "      <td>Li-polymer</td>\n",
       "      <td>9.6</td>\n",
       "      <td>162.3</td>\n",
       "      <td>77.28</td>\n",
       "      <td>touch</td>\n",
       "      <td>Android</td>\n",
       "      <td>Google</td>\n",
       "      <td>0</td>\n",
       "      <td>1</td>\n",
       "      <td>0</td>\n",
       "      <td>0</td>\n",
       "      <td>2</td>\n",
       "      <td>8</td>\n",
       "      <td>Standby</td>\n",
       "      <td>395.0</td>\n",
       "      <td>4096</td>\n",
       "      <td>2021-01-01</td>\n",
       "      <td>1</td>\n",
       "      <td>1</td>\n",
       "      <td>1</td>\n",
       "      <td>1</td>\n",
       "      <td>150</td>\n",
       "    </tr>\n",
       "    <tr>\n",
       "      <th>4</th>\n",
       "      <td>3074468</td>\n",
       "      <td>35639208</td>\n",
       "      <td>Samsung</td>\n",
       "      <td>Galaxy J7 2017 Dual</td>\n",
       "      <td>4G</td>\n",
       "      <td>Android</td>\n",
       "      <td>smartphone</td>\n",
       "      <td>2021-10-31</td>\n",
       "      <td>2021-10-31</td>\n",
       "      <td>30</td>\n",
       "      <td>653.4</td>\n",
       "      <td>1</td>\n",
       "      <td>1</td>\n",
       "      <td>3600.0</td>\n",
       "      <td>Li-ion</td>\n",
       "      <td>7.8</td>\n",
       "      <td>152.4</td>\n",
       "      <td>74.70</td>\n",
       "      <td>touch</td>\n",
       "      <td>Android</td>\n",
       "      <td>Google</td>\n",
       "      <td>1</td>\n",
       "      <td>1</td>\n",
       "      <td>0</td>\n",
       "      <td>0</td>\n",
       "      <td>2</td>\n",
       "      <td>8</td>\n",
       "      <td>Standby</td>\n",
       "      <td>401.0</td>\n",
       "      <td>3072</td>\n",
       "      <td>2017-07-01</td>\n",
       "      <td>1</td>\n",
       "      <td>1</td>\n",
       "      <td>1</td>\n",
       "      <td>1</td>\n",
       "      <td>1583</td>\n",
       "    </tr>\n",
       "  </tbody>\n",
       "</table>\n",
       "</div>"
      ],
      "text/plain": [
       "        ID  DEVICE_ID    BRAND                MODEL NETTYPE       OS  \\\n",
       "0  4397787   35230713  Samsung           Galaxy A12      4G  Android   \n",
       "1  4129638   35306809    Apple            iPhone SE      4G      iOS   \n",
       "2  1154183   86887805  OnePlus            Nord N100      4G  Android   \n",
       "3   670331   86296505   Xiaomi             Redmi 9T      4G  Android   \n",
       "4  3074468   35639208  Samsung  Galaxy J7 2017 Dual      4G  Android   \n",
       "\n",
       "    OS_TYPE_x START_DATE    END_DATE  DAYS_USED  AVG_DAYS_USED  SUPPORTS_LTE  \\\n",
       "0  smartphone 2024-01-31  2024-07-12        193          616.0             1   \n",
       "1  smartphone 2022-04-30  2023-05-31        425          642.5             1   \n",
       "2  smartphone 2021-11-30  2024-07-12        984          564.8             1   \n",
       "3  smartphone 2021-05-31  2024-02-29       1034          624.8             1   \n",
       "4  smartphone 2021-10-31  2021-10-31         30          653.4             1   \n",
       "\n",
       "   SUPPORTS_VOLTE  BATTERY_CAPACITY BATTERY_TYPE  BODY_DEPTH  BODY_HEIGHT  \\\n",
       "0               1            5000.0       Li-ion         8.9        164.0   \n",
       "1               0            1642.0       Li-ion         7.6        123.8   \n",
       "2               1            5000.0   Li-polymer         8.5        164.9   \n",
       "3               1            6000.0   Li-polymer         9.6        162.3   \n",
       "4               1            3600.0       Li-ion         7.8        152.4   \n",
       "\n",
       "   BODY_WIDTH BODY_TYPE OS_TYPE_y OS_VENDOR  CAMERA_FLASHLIGHT  \\\n",
       "0       75.80     touch   Android    Google                  1   \n",
       "1       58.60     touch       iOS     Apple                  1   \n",
       "2       75.10     touch   Android    Google                  1   \n",
       "3       77.28     touch   Android    Google                  0   \n",
       "4       74.70     touch   Android    Google                  1   \n",
       "\n",
       "   SUPPORTS_MULTISIM  SUPPORTS_ESIM  SUPPORT_5G  SIM_COUNT  CPU_CORES  \\\n",
       "0                  1              0           0          2          8   \n",
       "1                  0              0           0          1          2   \n",
       "2                  1              0           0          2          8   \n",
       "3                  1              0           0          2          8   \n",
       "4                  1              0           0          2          8   \n",
       "\n",
       "  MULTISIM_MODE  PIXEL_DENSITY  RAM_SIZE RELEASE_DATE  BAND_1800  BAND_1900  \\\n",
       "0  dual standby          264.0      6156   2020-08-19          1          1   \n",
       "1       Standby          326.0      2048   2016-03-01          1          1   \n",
       "2  dual standby          269.0      6156   2020-05-21          1          1   \n",
       "3       Standby          395.0      4096   2021-01-01          1          1   \n",
       "4       Standby          401.0      3072   2017-07-01          1          1   \n",
       "\n",
       "   BAND_850  BAND_900  DEVICE_AGE  \n",
       "0         1         1        1260  \n",
       "1         1         1        2251  \n",
       "2         1         1         558  \n",
       "3         1         1         150  \n",
       "4         1         1        1583  "
      ]
     },
     "execution_count": 5,
     "metadata": {},
     "output_type": "execute_result"
    }
   ],
   "source": [
    "df = pd.merge(df2, df1, how='left', left_on='DEVICE_ID', right_on='TAC')\n",
    "df = df.drop(['TAC', 'MODEL_NAME', 'VENDOR_NAME'], axis=1) # Duplicate columns\n",
    "\n",
    "df['START_DATE'] = pd.to_datetime(df['START_DATE'], errors='coerce')\n",
    "df['RELEASE_DATE'] = pd.to_datetime(df['RELEASE_DATE'], errors='coerce')\n",
    "\n",
    "# Adjusting all 'START_DATE' to the last day of the same month to avoid date-related miscalculations\n",
    "def adjust_start_date(date):\n",
    "    if date.month in [4, 6, 9, 11]: \n",
    "        return date.replace(day=30)\n",
    "    elif date.month == 2:  # February, handling leap year\n",
    "        if date.year % 4 == 0 and (date.year % 100 != 0 or date.year % 400 == 0):\n",
    "            return date.replace(day=29)  \n",
    "        else:\n",
    "            return date.replace(day=28) \n",
    "    else:\n",
    "        return date.replace(day=31)  \n",
    "\n",
    "df['START_DATE'] = df['START_DATE'].apply(adjust_start_date)\n",
    "\n",
    "# Creating a column 'DEVICE_AGE' that calculates the difference in days between START_DATE and RELEASE_DATE\n",
    "df['DEVICE_AGE'] = (df['START_DATE'] - df['RELEASE_DATE']).dt.days\n",
    "\n",
    "# Filtering out rows where 'DEVICE_AGE' is positive\n",
    "df = df[df['DEVICE_AGE'] >= 0]\n",
    "\n",
    "df.head()"
   ]
  },
  {
   "cell_type": "code",
   "execution_count": 6,
   "metadata": {},
   "outputs": [],
   "source": [
    "del df1, df2"
   ]
  },
  {
   "cell_type": "markdown",
   "metadata": {},
   "source": [
    "### Creating a new dataframe with the latest devices for each customer."
   ]
  },
  {
   "cell_type": "code",
   "execution_count": 7,
   "metadata": {},
   "outputs": [
    {
     "data": {
      "text/html": [
       "<div>\n",
       "<style scoped>\n",
       "    .dataframe tbody tr th:only-of-type {\n",
       "        vertical-align: middle;\n",
       "    }\n",
       "\n",
       "    .dataframe tbody tr th {\n",
       "        vertical-align: top;\n",
       "    }\n",
       "\n",
       "    .dataframe thead th {\n",
       "        text-align: right;\n",
       "    }\n",
       "</style>\n",
       "<table border=\"1\" class=\"dataframe\">\n",
       "  <thead>\n",
       "    <tr style=\"text-align: right;\">\n",
       "      <th></th>\n",
       "      <th>ID</th>\n",
       "      <th>DEVICE_ID</th>\n",
       "      <th>BRAND</th>\n",
       "      <th>MODEL</th>\n",
       "      <th>NETTYPE</th>\n",
       "      <th>OS</th>\n",
       "      <th>OS_TYPE_x</th>\n",
       "      <th>DEVICE_AGE</th>\n",
       "      <th>RELEASE_DATE</th>\n",
       "      <th>START_DATE</th>\n",
       "      <th>END_DATE</th>\n",
       "      <th>DAYS_USED</th>\n",
       "      <th>AVG_DAYS_USED</th>\n",
       "      <th>SUPPORTS_LTE</th>\n",
       "      <th>SUPPORTS_VOLTE</th>\n",
       "      <th>BATTERY_CAPACITY</th>\n",
       "      <th>BATTERY_TYPE</th>\n",
       "      <th>BODY_DEPTH</th>\n",
       "      <th>BODY_HEIGHT</th>\n",
       "      <th>BODY_WIDTH</th>\n",
       "      <th>BODY_TYPE</th>\n",
       "      <th>OS_TYPE_y</th>\n",
       "      <th>OS_VENDOR</th>\n",
       "      <th>CAMERA_FLASHLIGHT</th>\n",
       "      <th>SUPPORTS_MULTISIM</th>\n",
       "      <th>SUPPORTS_ESIM</th>\n",
       "      <th>SUPPORT_5G</th>\n",
       "      <th>SIM_COUNT</th>\n",
       "      <th>CPU_CORES</th>\n",
       "      <th>MULTISIM_MODE</th>\n",
       "      <th>PIXEL_DENSITY</th>\n",
       "      <th>RAM_SIZE</th>\n",
       "      <th>BAND_1800</th>\n",
       "      <th>BAND_1900</th>\n",
       "      <th>BAND_850</th>\n",
       "      <th>BAND_900</th>\n",
       "    </tr>\n",
       "  </thead>\n",
       "  <tbody>\n",
       "    <tr>\n",
       "      <th>8167674</th>\n",
       "      <td>1</td>\n",
       "      <td>35579407</td>\n",
       "      <td>Apple</td>\n",
       "      <td>iPhone SE</td>\n",
       "      <td>4G</td>\n",
       "      <td>iOS</td>\n",
       "      <td>smartphone</td>\n",
       "      <td>486</td>\n",
       "      <td>2016-03-01</td>\n",
       "      <td>2017-06-30</td>\n",
       "      <td>2019-10-31</td>\n",
       "      <td>882</td>\n",
       "      <td>642.5</td>\n",
       "      <td>1</td>\n",
       "      <td>0</td>\n",
       "      <td>1642.0</td>\n",
       "      <td>Li-ion</td>\n",
       "      <td>7.60</td>\n",
       "      <td>123.80</td>\n",
       "      <td>58.60</td>\n",
       "      <td>touch</td>\n",
       "      <td>iOS</td>\n",
       "      <td>Apple</td>\n",
       "      <td>1</td>\n",
       "      <td>0</td>\n",
       "      <td>0</td>\n",
       "      <td>0</td>\n",
       "      <td>1</td>\n",
       "      <td>8</td>\n",
       "      <td>Standby</td>\n",
       "      <td>326.0</td>\n",
       "      <td>2048</td>\n",
       "      <td>1</td>\n",
       "      <td>1</td>\n",
       "      <td>1</td>\n",
       "      <td>1</td>\n",
       "    </tr>\n",
       "    <tr>\n",
       "      <th>6428652</th>\n",
       "      <td>2</td>\n",
       "      <td>86221906</td>\n",
       "      <td>Xiaomi</td>\n",
       "      <td>Redmi 12</td>\n",
       "      <td>4G</td>\n",
       "      <td>Android</td>\n",
       "      <td>smartphone</td>\n",
       "      <td>392</td>\n",
       "      <td>2023-01-04</td>\n",
       "      <td>2024-01-31</td>\n",
       "      <td>2024-07-12</td>\n",
       "      <td>193</td>\n",
       "      <td>226.1</td>\n",
       "      <td>1</td>\n",
       "      <td>1</td>\n",
       "      <td>5000.0</td>\n",
       "      <td>Li-ion</td>\n",
       "      <td>8.17</td>\n",
       "      <td>168.60</td>\n",
       "      <td>76.28</td>\n",
       "      <td>touch</td>\n",
       "      <td>Android</td>\n",
       "      <td>Google</td>\n",
       "      <td>0</td>\n",
       "      <td>1</td>\n",
       "      <td>0</td>\n",
       "      <td>0</td>\n",
       "      <td>2</td>\n",
       "      <td>8</td>\n",
       "      <td>dual standby</td>\n",
       "      <td>396.0</td>\n",
       "      <td>4096</td>\n",
       "      <td>1</td>\n",
       "      <td>1</td>\n",
       "      <td>1</td>\n",
       "      <td>1</td>\n",
       "    </tr>\n",
       "    <tr>\n",
       "      <th>19081</th>\n",
       "      <td>5</td>\n",
       "      <td>86095705</td>\n",
       "      <td>Xiaomi</td>\n",
       "      <td>Redmi 9</td>\n",
       "      <td>4G</td>\n",
       "      <td>Android</td>\n",
       "      <td>smartphone</td>\n",
       "      <td>1247</td>\n",
       "      <td>2020-04-01</td>\n",
       "      <td>2023-08-31</td>\n",
       "      <td>2024-07-12</td>\n",
       "      <td>346</td>\n",
       "      <td>645.2</td>\n",
       "      <td>1</td>\n",
       "      <td>1</td>\n",
       "      <td>5020.0</td>\n",
       "      <td>Li-ion</td>\n",
       "      <td>9.10</td>\n",
       "      <td>163.32</td>\n",
       "      <td>77.01</td>\n",
       "      <td>touch</td>\n",
       "      <td>Android</td>\n",
       "      <td>Google</td>\n",
       "      <td>1</td>\n",
       "      <td>1</td>\n",
       "      <td>0</td>\n",
       "      <td>0</td>\n",
       "      <td>2</td>\n",
       "      <td>8</td>\n",
       "      <td>Standby</td>\n",
       "      <td>395.0</td>\n",
       "      <td>3072</td>\n",
       "      <td>1</td>\n",
       "      <td>1</td>\n",
       "      <td>1</td>\n",
       "      <td>1</td>\n",
       "    </tr>\n",
       "    <tr>\n",
       "      <th>1244379</th>\n",
       "      <td>6</td>\n",
       "      <td>86252506</td>\n",
       "      <td>Xiaomi</td>\n",
       "      <td>Redmi 9C</td>\n",
       "      <td>4G</td>\n",
       "      <td>Android</td>\n",
       "      <td>smartphone</td>\n",
       "      <td>791</td>\n",
       "      <td>2020-07-31</td>\n",
       "      <td>2022-09-30</td>\n",
       "      <td>2024-07-12</td>\n",
       "      <td>680</td>\n",
       "      <td>559.1</td>\n",
       "      <td>1</td>\n",
       "      <td>1</td>\n",
       "      <td>5000.0</td>\n",
       "      <td>Li-polymer</td>\n",
       "      <td>9.00</td>\n",
       "      <td>164.90</td>\n",
       "      <td>77.00</td>\n",
       "      <td>touch</td>\n",
       "      <td>Android</td>\n",
       "      <td>Google</td>\n",
       "      <td>1</td>\n",
       "      <td>1</td>\n",
       "      <td>0</td>\n",
       "      <td>0</td>\n",
       "      <td>2</td>\n",
       "      <td>8</td>\n",
       "      <td>dual standby</td>\n",
       "      <td>269.0</td>\n",
       "      <td>2048</td>\n",
       "      <td>1</td>\n",
       "      <td>1</td>\n",
       "      <td>1</td>\n",
       "      <td>1</td>\n",
       "    </tr>\n",
       "    <tr>\n",
       "      <th>1811256</th>\n",
       "      <td>7</td>\n",
       "      <td>35657309</td>\n",
       "      <td>Samsung</td>\n",
       "      <td>Galaxy A3 2017</td>\n",
       "      <td>4G</td>\n",
       "      <td>Android</td>\n",
       "      <td>smartphone</td>\n",
       "      <td>2310</td>\n",
       "      <td>2017-01-01</td>\n",
       "      <td>2023-04-30</td>\n",
       "      <td>2024-07-12</td>\n",
       "      <td>468</td>\n",
       "      <td>730.3</td>\n",
       "      <td>1</td>\n",
       "      <td>0</td>\n",
       "      <td>2350.0</td>\n",
       "      <td>Li-ion</td>\n",
       "      <td>7.90</td>\n",
       "      <td>135.40</td>\n",
       "      <td>66.20</td>\n",
       "      <td>touch</td>\n",
       "      <td>Android</td>\n",
       "      <td>Google</td>\n",
       "      <td>1</td>\n",
       "      <td>0</td>\n",
       "      <td>0</td>\n",
       "      <td>0</td>\n",
       "      <td>1</td>\n",
       "      <td>8</td>\n",
       "      <td>Standby</td>\n",
       "      <td>312.0</td>\n",
       "      <td>2048</td>\n",
       "      <td>1</td>\n",
       "      <td>1</td>\n",
       "      <td>1</td>\n",
       "      <td>1</td>\n",
       "    </tr>\n",
       "  </tbody>\n",
       "</table>\n",
       "</div>"
      ],
      "text/plain": [
       "         ID  DEVICE_ID    BRAND           MODEL NETTYPE       OS   OS_TYPE_x  \\\n",
       "8167674   1   35579407    Apple       iPhone SE      4G      iOS  smartphone   \n",
       "6428652   2   86221906   Xiaomi        Redmi 12      4G  Android  smartphone   \n",
       "19081     5   86095705   Xiaomi         Redmi 9      4G  Android  smartphone   \n",
       "1244379   6   86252506   Xiaomi        Redmi 9C      4G  Android  smartphone   \n",
       "1811256   7   35657309  Samsung  Galaxy A3 2017      4G  Android  smartphone   \n",
       "\n",
       "         DEVICE_AGE RELEASE_DATE START_DATE    END_DATE  DAYS_USED  \\\n",
       "8167674         486   2016-03-01 2017-06-30  2019-10-31        882   \n",
       "6428652         392   2023-01-04 2024-01-31  2024-07-12        193   \n",
       "19081          1247   2020-04-01 2023-08-31  2024-07-12        346   \n",
       "1244379         791   2020-07-31 2022-09-30  2024-07-12        680   \n",
       "1811256        2310   2017-01-01 2023-04-30  2024-07-12        468   \n",
       "\n",
       "         AVG_DAYS_USED  SUPPORTS_LTE  SUPPORTS_VOLTE  BATTERY_CAPACITY  \\\n",
       "8167674          642.5             1               0            1642.0   \n",
       "6428652          226.1             1               1            5000.0   \n",
       "19081            645.2             1               1            5020.0   \n",
       "1244379          559.1             1               1            5000.0   \n",
       "1811256          730.3             1               0            2350.0   \n",
       "\n",
       "        BATTERY_TYPE  BODY_DEPTH  BODY_HEIGHT  BODY_WIDTH BODY_TYPE OS_TYPE_y  \\\n",
       "8167674       Li-ion        7.60       123.80       58.60     touch       iOS   \n",
       "6428652       Li-ion        8.17       168.60       76.28     touch   Android   \n",
       "19081         Li-ion        9.10       163.32       77.01     touch   Android   \n",
       "1244379   Li-polymer        9.00       164.90       77.00     touch   Android   \n",
       "1811256       Li-ion        7.90       135.40       66.20     touch   Android   \n",
       "\n",
       "        OS_VENDOR  CAMERA_FLASHLIGHT  SUPPORTS_MULTISIM  SUPPORTS_ESIM  \\\n",
       "8167674     Apple                  1                  0              0   \n",
       "6428652    Google                  0                  1              0   \n",
       "19081      Google                  1                  1              0   \n",
       "1244379    Google                  1                  1              0   \n",
       "1811256    Google                  1                  0              0   \n",
       "\n",
       "         SUPPORT_5G  SIM_COUNT  CPU_CORES MULTISIM_MODE  PIXEL_DENSITY  \\\n",
       "8167674           0          1          8       Standby          326.0   \n",
       "6428652           0          2          8  dual standby          396.0   \n",
       "19081             0          2          8       Standby          395.0   \n",
       "1244379           0          2          8  dual standby          269.0   \n",
       "1811256           0          1          8       Standby          312.0   \n",
       "\n",
       "         RAM_SIZE  BAND_1800  BAND_1900  BAND_850  BAND_900  \n",
       "8167674      2048          1          1         1         1  \n",
       "6428652      4096          1          1         1         1  \n",
       "19081        3072          1          1         1         1  \n",
       "1244379      2048          1          1         1         1  \n",
       "1811256      2048          1          1         1         1  "
      ]
     },
     "execution_count": 7,
     "metadata": {},
     "output_type": "execute_result"
    }
   ],
   "source": [
    "new_df = df.copy()\n",
    "new_df = new_df.loc[new_df.groupby('ID')['START_DATE'].idxmax()]\n",
    "\n",
    "cols = new_df.columns.tolist()\n",
    "release_index = cols.index('RELEASE_DATE')\n",
    "start_index = cols.index('START_DATE')\n",
    "cols.insert(start_index, cols.pop(release_index)) \n",
    "new_df = new_df[cols]\n",
    "\n",
    "cols = new_df.columns.tolist()\n",
    "release_index = cols.index('RELEASE_DATE')  \n",
    "cols.insert(release_index, cols.pop(cols.index('DEVICE_AGE'))) \n",
    "new_df = new_df[cols]\n",
    "\n",
    "new_df.head()"
   ]
  },
  {
   "cell_type": "markdown",
   "metadata": {},
   "source": [
    "# Purchasing behavior: Understanding device adoption patterns"
   ]
  },
  {
   "cell_type": "markdown",
   "metadata": {},
   "source": [
    "##### Segmenting customers based on the time they take (in days) to adopt a device after its release."
   ]
  },
  {
   "cell_type": "code",
   "execution_count": 8,
   "metadata": {},
   "outputs": [
    {
     "data": {
      "text/plain": [
       "count    2.972988e+06\n",
       "mean     9.644869e+02\n",
       "std      7.891294e+02\n",
       "min      0.000000e+00\n",
       "25%      3.570000e+02\n",
       "50%      6.890000e+02\n",
       "75%      1.399000e+03\n",
       "max      7.287000e+03\n",
       "Name: DEVICE_AGE, dtype: float64"
      ]
     },
     "execution_count": 8,
     "metadata": {},
     "output_type": "execute_result"
    }
   ],
   "source": [
    "new_df = new_df[new_df['DEVICE_AGE'] <= 7300]\n",
    "new_df['DEVICE_AGE'].describe()"
   ]
  },
  {
   "cell_type": "markdown",
   "metadata": {},
   "source": [
    "### Defining the thresholds"
   ]
  },
  {
   "cell_type": "code",
   "execution_count": 9,
   "metadata": {},
   "outputs": [],
   "source": [
    "Q1 = new_df['DEVICE_AGE'].quantile(0.25)  # 1st quartile for Early Adopters \n",
    "Q2 = new_df['DEVICE_AGE'].quantile(0.50)  # Median for Mid-range Adopters\n",
    "Q3 = new_df['DEVICE_AGE'].quantile(0.75)  # 3rd quartile for Late Adopters\n",
    "innovator_threshold = 60  # Innovators, purchasing within 60 days"
   ]
  },
  {
   "cell_type": "markdown",
   "metadata": {},
   "source": [
    "### Spread and distribution of 'DEVICE_AGE'"
   ]
  },
  {
   "cell_type": "code",
   "execution_count": 10,
   "metadata": {},
   "outputs": [
    {
     "data": {
      "image/png": "[encoded data removed]",
      "text/plain": [
       "<Figure size 2800x400 with 1 Axes>"
      ]
     },
     "metadata": {},
     "output_type": "display_data"
    }
   ],
   "source": [
    "coolwarm_colors = sns.color_palette('coolwarm', as_cmap=False)\n",
    "\n",
    "plt.figure(figsize=(28, 4))\n",
    "sns.boxplot(x=new_df['DEVICE_AGE'], color=coolwarm_colors[0])\n",
    "plt.title('Boxplot of Device Age')\n",
    "plt.xlabel('Device Age (Days)')\n",
    "plt.show()"
   ]
  },
  {
   "cell_type": "code",
   "execution_count": 11,
   "metadata": {},
   "outputs": [
    {
     "data": {
      "text/html": [
       "<div>\n",
       "<style scoped>\n",
       "    .dataframe tbody tr th:only-of-type {\n",
       "        vertical-align: middle;\n",
       "    }\n",
       "\n",
       "    .dataframe tbody tr th {\n",
       "        vertical-align: top;\n",
       "    }\n",
       "\n",
       "    .dataframe thead th {\n",
       "        text-align: right;\n",
       "    }\n",
       "</style>\n",
       "<table border=\"1\" class=\"dataframe\">\n",
       "  <thead>\n",
       "    <tr style=\"text-align: right;\">\n",
       "      <th></th>\n",
       "      <th>ID</th>\n",
       "      <th>DEVICE_ID</th>\n",
       "      <th>BRAND</th>\n",
       "      <th>MODEL</th>\n",
       "      <th>NETTYPE</th>\n",
       "      <th>OS</th>\n",
       "      <th>OS_TYPE_x</th>\n",
       "      <th>DEVICE_AGE</th>\n",
       "      <th>RELEASE_DATE</th>\n",
       "      <th>START_DATE</th>\n",
       "      <th>END_DATE</th>\n",
       "      <th>DAYS_USED</th>\n",
       "      <th>AVG_DAYS_USED</th>\n",
       "      <th>SUPPORTS_LTE</th>\n",
       "      <th>SUPPORTS_VOLTE</th>\n",
       "      <th>BATTERY_CAPACITY</th>\n",
       "      <th>BATTERY_TYPE</th>\n",
       "      <th>BODY_DEPTH</th>\n",
       "      <th>BODY_HEIGHT</th>\n",
       "      <th>BODY_WIDTH</th>\n",
       "      <th>BODY_TYPE</th>\n",
       "      <th>OS_TYPE_y</th>\n",
       "      <th>OS_VENDOR</th>\n",
       "      <th>CAMERA_FLASHLIGHT</th>\n",
       "      <th>SUPPORTS_MULTISIM</th>\n",
       "      <th>SUPPORTS_ESIM</th>\n",
       "      <th>SUPPORT_5G</th>\n",
       "      <th>SIM_COUNT</th>\n",
       "      <th>CPU_CORES</th>\n",
       "      <th>MULTISIM_MODE</th>\n",
       "      <th>PIXEL_DENSITY</th>\n",
       "      <th>RAM_SIZE</th>\n",
       "      <th>BAND_1800</th>\n",
       "      <th>BAND_1900</th>\n",
       "      <th>BAND_850</th>\n",
       "      <th>BAND_900</th>\n",
       "      <th>ADOPTER_CATEGORY</th>\n",
       "    </tr>\n",
       "  </thead>\n",
       "  <tbody>\n",
       "    <tr>\n",
       "      <th>8167674</th>\n",
       "      <td>1</td>\n",
       "      <td>35579407</td>\n",
       "      <td>Apple</td>\n",
       "      <td>iPhone SE</td>\n",
       "      <td>4G</td>\n",
       "      <td>iOS</td>\n",
       "      <td>smartphone</td>\n",
       "      <td>486</td>\n",
       "      <td>2016-03-01</td>\n",
       "      <td>2017-06-30</td>\n",
       "      <td>2019-10-31</td>\n",
       "      <td>882</td>\n",
       "      <td>642.5</td>\n",
       "      <td>1</td>\n",
       "      <td>0</td>\n",
       "      <td>1642.0</td>\n",
       "      <td>Li-ion</td>\n",
       "      <td>7.60</td>\n",
       "      <td>123.80</td>\n",
       "      <td>58.60</td>\n",
       "      <td>touch</td>\n",
       "      <td>iOS</td>\n",
       "      <td>Apple</td>\n",
       "      <td>1</td>\n",
       "      <td>0</td>\n",
       "      <td>0</td>\n",
       "      <td>0</td>\n",
       "      <td>1</td>\n",
       "      <td>8</td>\n",
       "      <td>Standby</td>\n",
       "      <td>326.0</td>\n",
       "      <td>2048</td>\n",
       "      <td>1</td>\n",
       "      <td>1</td>\n",
       "      <td>1</td>\n",
       "      <td>1</td>\n",
       "      <td>Mid-range Adopter</td>\n",
       "    </tr>\n",
       "    <tr>\n",
       "      <th>6428652</th>\n",
       "      <td>2</td>\n",
       "      <td>86221906</td>\n",
       "      <td>Xiaomi</td>\n",
       "      <td>Redmi 12</td>\n",
       "      <td>4G</td>\n",
       "      <td>Android</td>\n",
       "      <td>smartphone</td>\n",
       "      <td>392</td>\n",
       "      <td>2023-01-04</td>\n",
       "      <td>2024-01-31</td>\n",
       "      <td>2024-07-12</td>\n",
       "      <td>193</td>\n",
       "      <td>226.1</td>\n",
       "      <td>1</td>\n",
       "      <td>1</td>\n",
       "      <td>5000.0</td>\n",
       "      <td>Li-ion</td>\n",
       "      <td>8.17</td>\n",
       "      <td>168.60</td>\n",
       "      <td>76.28</td>\n",
       "      <td>touch</td>\n",
       "      <td>Android</td>\n",
       "      <td>Google</td>\n",
       "      <td>0</td>\n",
       "      <td>1</td>\n",
       "      <td>0</td>\n",
       "      <td>0</td>\n",
       "      <td>2</td>\n",
       "      <td>8</td>\n",
       "      <td>dual standby</td>\n",
       "      <td>396.0</td>\n",
       "      <td>4096</td>\n",
       "      <td>1</td>\n",
       "      <td>1</td>\n",
       "      <td>1</td>\n",
       "      <td>1</td>\n",
       "      <td>Mid-range Adopter</td>\n",
       "    </tr>\n",
       "    <tr>\n",
       "      <th>19081</th>\n",
       "      <td>5</td>\n",
       "      <td>86095705</td>\n",
       "      <td>Xiaomi</td>\n",
       "      <td>Redmi 9</td>\n",
       "      <td>4G</td>\n",
       "      <td>Android</td>\n",
       "      <td>smartphone</td>\n",
       "      <td>1247</td>\n",
       "      <td>2020-04-01</td>\n",
       "      <td>2023-08-31</td>\n",
       "      <td>2024-07-12</td>\n",
       "      <td>346</td>\n",
       "      <td>645.2</td>\n",
       "      <td>1</td>\n",
       "      <td>1</td>\n",
       "      <td>5020.0</td>\n",
       "      <td>Li-ion</td>\n",
       "      <td>9.10</td>\n",
       "      <td>163.32</td>\n",
       "      <td>77.01</td>\n",
       "      <td>touch</td>\n",
       "      <td>Android</td>\n",
       "      <td>Google</td>\n",
       "      <td>1</td>\n",
       "      <td>1</td>\n",
       "      <td>0</td>\n",
       "      <td>0</td>\n",
       "      <td>2</td>\n",
       "      <td>8</td>\n",
       "      <td>Standby</td>\n",
       "      <td>395.0</td>\n",
       "      <td>3072</td>\n",
       "      <td>1</td>\n",
       "      <td>1</td>\n",
       "      <td>1</td>\n",
       "      <td>1</td>\n",
       "      <td>Late Adopter</td>\n",
       "    </tr>\n",
       "    <tr>\n",
       "      <th>1244379</th>\n",
       "      <td>6</td>\n",
       "      <td>86252506</td>\n",
       "      <td>Xiaomi</td>\n",
       "      <td>Redmi 9C</td>\n",
       "      <td>4G</td>\n",
       "      <td>Android</td>\n",
       "      <td>smartphone</td>\n",
       "      <td>791</td>\n",
       "      <td>2020-07-31</td>\n",
       "      <td>2022-09-30</td>\n",
       "      <td>2024-07-12</td>\n",
       "      <td>680</td>\n",
       "      <td>559.1</td>\n",
       "      <td>1</td>\n",
       "      <td>1</td>\n",
       "      <td>5000.0</td>\n",
       "      <td>Li-polymer</td>\n",
       "      <td>9.00</td>\n",
       "      <td>164.90</td>\n",
       "      <td>77.00</td>\n",
       "      <td>touch</td>\n",
       "      <td>Android</td>\n",
       "      <td>Google</td>\n",
       "      <td>1</td>\n",
       "      <td>1</td>\n",
       "      <td>0</td>\n",
       "      <td>0</td>\n",
       "      <td>2</td>\n",
       "      <td>8</td>\n",
       "      <td>dual standby</td>\n",
       "      <td>269.0</td>\n",
       "      <td>2048</td>\n",
       "      <td>1</td>\n",
       "      <td>1</td>\n",
       "      <td>1</td>\n",
       "      <td>1</td>\n",
       "      <td>Late Adopter</td>\n",
       "    </tr>\n",
       "    <tr>\n",
       "      <th>1811256</th>\n",
       "      <td>7</td>\n",
       "      <td>35657309</td>\n",
       "      <td>Samsung</td>\n",
       "      <td>Galaxy A3 2017</td>\n",
       "      <td>4G</td>\n",
       "      <td>Android</td>\n",
       "      <td>smartphone</td>\n",
       "      <td>2310</td>\n",
       "      <td>2017-01-01</td>\n",
       "      <td>2023-04-30</td>\n",
       "      <td>2024-07-12</td>\n",
       "      <td>468</td>\n",
       "      <td>730.3</td>\n",
       "      <td>1</td>\n",
       "      <td>0</td>\n",
       "      <td>2350.0</td>\n",
       "      <td>Li-ion</td>\n",
       "      <td>7.90</td>\n",
       "      <td>135.40</td>\n",
       "      <td>66.20</td>\n",
       "      <td>touch</td>\n",
       "      <td>Android</td>\n",
       "      <td>Google</td>\n",
       "      <td>1</td>\n",
       "      <td>0</td>\n",
       "      <td>0</td>\n",
       "      <td>0</td>\n",
       "      <td>1</td>\n",
       "      <td>8</td>\n",
       "      <td>Standby</td>\n",
       "      <td>312.0</td>\n",
       "      <td>2048</td>\n",
       "      <td>1</td>\n",
       "      <td>1</td>\n",
       "      <td>1</td>\n",
       "      <td>1</td>\n",
       "      <td>Laggard</td>\n",
       "    </tr>\n",
       "  </tbody>\n",
       "</table>\n",
       "</div>"
      ],
      "text/plain": [
       "         ID  DEVICE_ID    BRAND           MODEL NETTYPE       OS   OS_TYPE_x  \\\n",
       "8167674   1   35579407    Apple       iPhone SE      4G      iOS  smartphone   \n",
       "6428652   2   86221906   Xiaomi        Redmi 12      4G  Android  smartphone   \n",
       "19081     5   86095705   Xiaomi         Redmi 9      4G  Android  smartphone   \n",
       "1244379   6   86252506   Xiaomi        Redmi 9C      4G  Android  smartphone   \n",
       "1811256   7   35657309  Samsung  Galaxy A3 2017      4G  Android  smartphone   \n",
       "\n",
       "         DEVICE_AGE RELEASE_DATE START_DATE    END_DATE  DAYS_USED  \\\n",
       "8167674         486   2016-03-01 2017-06-30  2019-10-31        882   \n",
       "6428652         392   2023-01-04 2024-01-31  2024-07-12        193   \n",
       "19081          1247   2020-04-01 2023-08-31  2024-07-12        346   \n",
       "1244379         791   2020-07-31 2022-09-30  2024-07-12        680   \n",
       "1811256        2310   2017-01-01 2023-04-30  2024-07-12        468   \n",
       "\n",
       "         AVG_DAYS_USED  SUPPORTS_LTE  SUPPORTS_VOLTE  BATTERY_CAPACITY  \\\n",
       "8167674          642.5             1               0            1642.0   \n",
       "6428652          226.1             1               1            5000.0   \n",
       "19081            645.2             1               1            5020.0   \n",
       "1244379          559.1             1               1            5000.0   \n",
       "1811256          730.3             1               0            2350.0   \n",
       "\n",
       "        BATTERY_TYPE  BODY_DEPTH  BODY_HEIGHT  BODY_WIDTH BODY_TYPE OS_TYPE_y  \\\n",
       "8167674       Li-ion        7.60       123.80       58.60     touch       iOS   \n",
       "6428652       Li-ion        8.17       168.60       76.28     touch   Android   \n",
       "19081         Li-ion        9.10       163.32       77.01     touch   Android   \n",
       "1244379   Li-polymer        9.00       164.90       77.00     touch   Android   \n",
       "1811256       Li-ion        7.90       135.40       66.20     touch   Android   \n",
       "\n",
       "        OS_VENDOR  CAMERA_FLASHLIGHT  SUPPORTS_MULTISIM  SUPPORTS_ESIM  \\\n",
       "8167674     Apple                  1                  0              0   \n",
       "6428652    Google                  0                  1              0   \n",
       "19081      Google                  1                  1              0   \n",
       "1244379    Google                  1                  1              0   \n",
       "1811256    Google                  1                  0              0   \n",
       "\n",
       "         SUPPORT_5G  SIM_COUNT  CPU_CORES MULTISIM_MODE  PIXEL_DENSITY  \\\n",
       "8167674           0          1          8       Standby          326.0   \n",
       "6428652           0          2          8  dual standby          396.0   \n",
       "19081             0          2          8       Standby          395.0   \n",
       "1244379           0          2          8  dual standby          269.0   \n",
       "1811256           0          1          8       Standby          312.0   \n",
       "\n",
       "         RAM_SIZE  BAND_1800  BAND_1900  BAND_850  BAND_900   ADOPTER_CATEGORY  \n",
       "8167674      2048          1          1         1         1  Mid-range Adopter  \n",
       "6428652      4096          1          1         1         1  Mid-range Adopter  \n",
       "19081        3072          1          1         1         1       Late Adopter  \n",
       "1244379      2048          1          1         1         1       Late Adopter  \n",
       "1811256      2048          1          1         1         1            Laggard  "
      ]
     },
     "execution_count": 11,
     "metadata": {},
     "output_type": "execute_result"
    }
   ],
   "source": [
    "def segment_by_device_age(age):\n",
    "    if age <= innovator_threshold: \n",
    "        return 'Innovator'\n",
    "    elif age <= Q1: \n",
    "        return 'Early Adopter'\n",
    "    elif age <= Q2:  \n",
    "        return 'Mid-range Adopter'\n",
    "    elif age <= Q3: \n",
    "        return 'Late Adopter'\n",
    "    else: \n",
    "        return 'Laggard'\n",
    "\n",
    "new_df['ADOPTER_CATEGORY'] = new_df['DEVICE_AGE'].apply(segment_by_device_age)\n",
    "new_df.head()"
   ]
  },
  {
   "cell_type": "code",
   "execution_count": 12,
   "metadata": {},
   "outputs": [
    {
     "data": {
      "image/png": "[encoded data removed]",
      "text/plain": [
       "<Figure size 1000x600 with 1 Axes>"
      ]
     },
     "metadata": {},
     "output_type": "display_data"
    }
   ],
   "source": [
    "coolwarm_colors = sns.color_palette('coolwarm', as_cmap=False)\n",
    "plt.figure(figsize=(10, 6))\n",
    "sns.histplot(new_df['DEVICE_AGE'], bins=50, kde=False, color=coolwarm_colors[0])\n",
    "\n",
    "plt.axvline(innovator_threshold, color='blue', linestyle='--', label='Innovator Threshold')\n",
    "plt.axvline(Q1, color='green', linestyle='--', label='1st Quartile (Early Adopters)')\n",
    "plt.axvline(Q2, color='orange', linestyle='--', label='2nd Quartile (Mid-range Adopters)')\n",
    "plt.axvline(Q3, color='red', linestyle='--', label='3rd Quartile (Late Adopters)')\n",
    "\n",
    "plt.title('Distribution of Device Age at Acquisition by Adoption Segment', fontsize=14)\n",
    "plt.xlabel('Device Age (days)', fontsize=10)\n",
    "plt.ylabel('Count', fontsize=10)\n",
    "plt.legend()\n",
    "plt.show()"
   ]
  },
  {
   "cell_type": "markdown",
   "metadata": {},
   "source": [
    "# Customer upgrading patterns"
   ]
  },
  {
   "cell_type": "markdown",
   "metadata": {},
   "source": [
    "##### This analysis identifies how often customers switch devices, highlighting segments such as rare upgraders, frequent upgraders, and etc."
   ]
  },
  {
   "cell_type": "code",
   "execution_count": 13,
   "metadata": {},
   "outputs": [],
   "source": [
    "# Calculating the frequency of device changes per user\n",
    "user_device_count = df.groupby('ID').size().reset_index(name='DEVICE_COUNT')\n",
    "df = df.merge(user_device_count, on='ID', how='left')"
   ]
  },
  {
   "cell_type": "markdown",
   "metadata": {},
   "source": [
    "### Defining the thresholds"
   ]
  },
  {
   "cell_type": "code",
   "execution_count": 14,
   "metadata": {},
   "outputs": [],
   "source": [
    "rare_threshold = user_device_count['DEVICE_COUNT'].quantile(0.25) # 2 device changes\n",
    "moderate_threshold = user_device_count['DEVICE_COUNT'].quantile(0.50) # 4 device changes\n",
    "frequent_threshold = user_device_count['DEVICE_COUNT'].quantile(0.75) # 5 device changes"
   ]
  },
  {
   "cell_type": "markdown",
   "metadata": {},
   "source": [
    "### 1. Rare Upgraders"
   ]
  },
  {
   "cell_type": "code",
   "execution_count": 15,
   "metadata": {},
   "outputs": [],
   "source": [
    "rare_users = user_device_count[user_device_count['DEVICE_COUNT'] <= rare_threshold]\n",
    "rare_df = df[df['ID'].isin(rare_users['ID'])].copy()\n",
    "\n",
    "rare_df['CATEGORY'] = 'Rare Upgraders'"
   ]
  },
  {
   "cell_type": "markdown",
   "metadata": {},
   "source": [
    "### 2. Moderate Upgraders"
   ]
  },
  {
   "cell_type": "code",
   "execution_count": 16,
   "metadata": {},
   "outputs": [],
   "source": [
    "moderate_users = user_device_count[\n",
    "    (user_device_count['DEVICE_COUNT'] > rare_threshold) & \n",
    "    (user_device_count['DEVICE_COUNT'] <= moderate_threshold)\n",
    "]\n",
    "moderate_df = df[df['ID'].isin(moderate_users['ID'])].copy()\n",
    "\n",
    "moderate_df['CATEGORY'] = 'Moderate Upgraders'"
   ]
  },
  {
   "cell_type": "markdown",
   "metadata": {},
   "source": [
    "### 3. Frequent Upgraders"
   ]
  },
  {
   "cell_type": "code",
   "execution_count": 17,
   "metadata": {},
   "outputs": [],
   "source": [
    "frequent_users = user_device_count[\n",
    "    (user_device_count['DEVICE_COUNT'] > moderate_threshold) & \n",
    "    (user_device_count['DEVICE_COUNT'] <= frequent_threshold)\n",
    "]\n",
    "frequent_df = df[df['ID'].isin(frequent_users['ID'])].copy()\n",
    "\n",
    "frequent_df['CATEGORY'] = 'Frequent Upgraders'"
   ]
  },
  {
   "cell_type": "markdown",
   "metadata": {},
   "source": [
    "### 4. Super Frequent Upgraders"
   ]
  },
  {
   "cell_type": "code",
   "execution_count": 18,
   "metadata": {},
   "outputs": [],
   "source": [
    "super_frequent_users = user_device_count[user_device_count['DEVICE_COUNT'] > frequent_threshold]\n",
    "super_frequent_df = df[df['ID'].isin(super_frequent_users['ID'])].copy()\n",
    "\n",
    "super_frequent_df['CATEGORY'] = 'Super Frequent Upgraders'"
   ]
  },
  {
   "cell_type": "markdown",
   "metadata": {},
   "source": [
    "### Combining all sub-segments into one dataframe "
   ]
  },
  {
   "cell_type": "code",
   "execution_count": 19,
   "metadata": {},
   "outputs": [],
   "source": [
    "purchasing_behavior_df = pd.concat([rare_df, moderate_df, frequent_df, super_frequent_df], ignore_index=True)"
   ]
  },
  {
   "cell_type": "code",
   "execution_count": 20,
   "metadata": {},
   "outputs": [
    {
     "data": {
      "text/html": [
       "<div>\n",
       "<style scoped>\n",
       "    .dataframe tbody tr th:only-of-type {\n",
       "        vertical-align: middle;\n",
       "    }\n",
       "\n",
       "    .dataframe tbody tr th {\n",
       "        vertical-align: top;\n",
       "    }\n",
       "\n",
       "    .dataframe thead th {\n",
       "        text-align: right;\n",
       "    }\n",
       "</style>\n",
       "<table border=\"1\" class=\"dataframe\">\n",
       "  <thead>\n",
       "    <tr style=\"text-align: right;\">\n",
       "      <th></th>\n",
       "      <th>count</th>\n",
       "      <th>mean</th>\n",
       "      <th>std</th>\n",
       "      <th>min</th>\n",
       "      <th>25%</th>\n",
       "      <th>50%</th>\n",
       "      <th>75%</th>\n",
       "      <th>max</th>\n",
       "    </tr>\n",
       "    <tr>\n",
       "      <th>CATEGORY</th>\n",
       "      <th></th>\n",
       "      <th></th>\n",
       "      <th></th>\n",
       "      <th></th>\n",
       "      <th></th>\n",
       "      <th></th>\n",
       "      <th></th>\n",
       "      <th></th>\n",
       "    </tr>\n",
       "  </thead>\n",
       "  <tbody>\n",
       "    <tr>\n",
       "      <th>Frequent Upgraders</th>\n",
       "      <td>1862335.0</td>\n",
       "      <td>119.314501</td>\n",
       "      <td>289.346061</td>\n",
       "      <td>0.0</td>\n",
       "      <td>0.0</td>\n",
       "      <td>31.0</td>\n",
       "      <td>31.0</td>\n",
       "      <td>3591.0</td>\n",
       "    </tr>\n",
       "    <tr>\n",
       "      <th>Moderate Upgraders</th>\n",
       "      <td>3435870.0</td>\n",
       "      <td>130.776117</td>\n",
       "      <td>362.994218</td>\n",
       "      <td>0.0</td>\n",
       "      <td>0.0</td>\n",
       "      <td>30.0</td>\n",
       "      <td>31.0</td>\n",
       "      <td>3835.0</td>\n",
       "    </tr>\n",
       "    <tr>\n",
       "      <th>Rare Upgraders</th>\n",
       "      <td>1355811.0</td>\n",
       "      <td>106.967589</td>\n",
       "      <td>428.914952</td>\n",
       "      <td>0.0</td>\n",
       "      <td>0.0</td>\n",
       "      <td>0.0</td>\n",
       "      <td>30.0</td>\n",
       "      <td>3896.0</td>\n",
       "    </tr>\n",
       "    <tr>\n",
       "      <th>Super Frequent Upgraders</th>\n",
       "      <td>5665467.0</td>\n",
       "      <td>104.143740</td>\n",
       "      <td>225.703160</td>\n",
       "      <td>0.0</td>\n",
       "      <td>28.0</td>\n",
       "      <td>31.0</td>\n",
       "      <td>60.0</td>\n",
       "      <td>3591.0</td>\n",
       "    </tr>\n",
       "  </tbody>\n",
       "</table>\n",
       "</div>"
      ],
      "text/plain": [
       "                              count        mean         std  min   25%   50%  \\\n",
       "CATEGORY                                                                       \n",
       "Frequent Upgraders        1862335.0  119.314501  289.346061  0.0   0.0  31.0   \n",
       "Moderate Upgraders        3435870.0  130.776117  362.994218  0.0   0.0  30.0   \n",
       "Rare Upgraders            1355811.0  106.967589  428.914952  0.0   0.0   0.0   \n",
       "Super Frequent Upgraders  5665467.0  104.143740  225.703160  0.0  28.0  31.0   \n",
       "\n",
       "                           75%     max  \n",
       "CATEGORY                                \n",
       "Frequent Upgraders        31.0  3591.0  \n",
       "Moderate Upgraders        31.0  3835.0  \n",
       "Rare Upgraders            30.0  3896.0  \n",
       "Super Frequent Upgraders  60.0  3591.0  "
      ]
     },
     "execution_count": 20,
     "metadata": {},
     "output_type": "execute_result"
    }
   ],
   "source": [
    "purchasing_behavior_df['START_DATE'] = pd.to_datetime(purchasing_behavior_df['START_DATE'], errors='coerce')\n",
    "purchasing_behavior_df['END_DATE'] = pd.to_datetime(purchasing_behavior_df['END_DATE'], errors='coerce')\n",
    "\n",
    "# Sorting by user ID and start date to get the device sequence for each user\n",
    "purchasing_behavior_df = purchasing_behavior_df.sort_values(by=['ID', 'START_DATE'])\n",
    "purchasing_behavior_df['NEXT_START_DATE'] = purchasing_behavior_df.groupby('ID')['START_DATE'].shift(-1)\n",
    "\n",
    "# Calculating time to switch, considering the last device switch as having no subsequent switch\n",
    "purchasing_behavior_df['TIME_TO_SWITCH'] = (purchasing_behavior_df['NEXT_START_DATE'] - purchasing_behavior_df['END_DATE']).dt.days\n",
    "purchasing_behavior_df['TIME_TO_SWITCH'] = purchasing_behavior_df['TIME_TO_SWITCH'].fillna(-1)\n",
    "\n",
    "# Correcting negative time to switch (indicating simultaneous device usage or no subsequent device)\n",
    "purchasing_behavior_df['TIME_TO_SWITCH'] = purchasing_behavior_df['TIME_TO_SWITCH'].apply(lambda x: max(x, 0))\n",
    "\n",
    "# Assigning category to indicate no subsequent device for the last one\n",
    "purchasing_behavior_df['CATEGORY'] = purchasing_behavior_df['CATEGORY'].fillna('Last Device')\n",
    "\n",
    "time_to_switch_summary = purchasing_behavior_df.groupby('CATEGORY')['TIME_TO_SWITCH'].describe()\n",
    "time_to_switch_summary"
   ]
  },
  {
   "cell_type": "code",
   "execution_count": 21,
   "metadata": {},
   "outputs": [
    {
     "data": {
      "image/png": "[encoded data removed]",
      "text/plain": [
       "<Figure size 700x700 with 1 Axes>"
      ]
     },
     "metadata": {},
     "output_type": "display_data"
    }
   ],
   "source": [
    "behavioral_purchase_distribution = purchasing_behavior_df['CATEGORY'].value_counts()\n",
    "\n",
    "total_users = purchasing_behavior_df['ID'].nunique()\n",
    "\n",
    "plt.figure(figsize=(7, 7))\n",
    "colors = sns.color_palette('coolwarm', len(behavioral_purchase_distribution))\n",
    "plt.pie(behavioral_purchase_distribution, labels=behavioral_purchase_distribution.index, autopct='%1.1f%%', startangle=140, colors=colors, wedgeprops=dict(width=0.3))\n",
    "\n",
    "centre_circle = plt.Circle((0, 0), 0.70, fc='white')\n",
    "fig = plt.gcf()\n",
    "fig.gca().add_artist(centre_circle)\n",
    "\n",
    "plt.text(0, 0, f'Total\\n{total_users}', ha='center', va='center', fontsize=16)\n",
    "plt.title('Distribution of Behavioral Purchase Segments')\n",
    "plt.show()"
   ]
  },
  {
   "cell_type": "markdown",
   "metadata": {},
   "source": [
    "# Customer loyalty towards brands"
   ]
  },
  {
   "cell_type": "markdown",
   "metadata": {},
   "source": [
    "##### This analysis identifies how consistently a customer sticks with the same brand across multiple device purchases."
   ]
  },
  {
   "cell_type": "code",
   "execution_count": 22,
   "metadata": {},
   "outputs": [],
   "source": [
    "# Calculating total days a customer has used devices\n",
    "user_total_days_used = df.groupby('ID')['DAYS_USED'].sum().reset_index(name='TOTAL_DAYS_USED')\n",
    "\n",
    "# Calculating how many times the customer sticks with the same brand\n",
    "brand_loyalty = df.groupby(['ID', 'BRAND']).size().reset_index(name='BRAND_COUNT')\n",
    "brand_loyalty = brand_loyalty.groupby('ID')['BRAND_COUNT'].max().reset_index(name='MAX_BRAND_COUNT')\n",
    "\n",
    "# Calculating total number of devices a customer has\n",
    "total_devices_used = df.groupby('ID').size().reset_index(name='TOTAL_DEVICES')\n",
    "loyalty_df = pd.merge(user_total_days_used, brand_loyalty, on='ID')\n",
    "loyalty_df = pd.merge(loyalty_df, total_devices_used, on='ID')\n",
    "\n",
    "# Calculating brand loyalty as a percentage of total devices used from the same brand (most used one)\n",
    "loyalty_df['BRAND_LOYALTY'] = (loyalty_df['MAX_BRAND_COUNT'] / loyalty_df['TOTAL_DEVICES']) * 100\n",
    "\n",
    "loyalty_df = pd.merge(loyalty_df, df[['ID', 'BRAND']], on='ID')"
   ]
  },
  {
   "cell_type": "code",
   "execution_count": 23,
   "metadata": {},
   "outputs": [
    {
     "data": {
      "text/plain": [
       "count    1.231948e+07\n",
       "mean     5.394105e+01\n",
       "std      2.198320e+01\n",
       "min      7.142857e+00\n",
       "25%      3.750000e+01\n",
       "50%      5.000000e+01\n",
       "75%      6.666667e+01\n",
       "max      1.000000e+02\n",
       "Name: BRAND_LOYALTY, dtype: float64"
      ]
     },
     "execution_count": 23,
     "metadata": {},
     "output_type": "execute_result"
    }
   ],
   "source": [
    "loyalty_df['BRAND_LOYALTY'].describe()"
   ]
  },
  {
   "cell_type": "markdown",
   "metadata": {},
   "source": [
    "### Defining the thresholds"
   ]
  },
  {
   "cell_type": "code",
   "execution_count": 24,
   "metadata": {},
   "outputs": [],
   "source": [
    "low_loyalty_threshold = loyalty_df['BRAND_LOYALTY'].quantile(0.25)  \n",
    "moderate_loyalty_threshold = loyalty_df['BRAND_LOYALTY'].quantile(0.50) \n",
    "high_loyalty_threshold = loyalty_df['BRAND_LOYALTY'].quantile(0.75) "
   ]
  },
  {
   "cell_type": "markdown",
   "metadata": {},
   "source": [
    "### 1. Low Loyalty Segment"
   ]
  },
  {
   "cell_type": "code",
   "execution_count": 25,
   "metadata": {},
   "outputs": [],
   "source": [
    "low_loyalty_users = loyalty_df[loyalty_df['BRAND_LOYALTY'] <= low_loyalty_threshold]\n",
    "low_loyalty_df = df[df['ID'].isin(low_loyalty_users['ID'])].copy()\n",
    "low_loyalty_df['LOYALTY_SEGMENT'] = 'Low Loyalty'"
   ]
  },
  {
   "cell_type": "markdown",
   "metadata": {},
   "source": [
    "### 2. Moderate Loyalty Segment"
   ]
  },
  {
   "cell_type": "code",
   "execution_count": 26,
   "metadata": {},
   "outputs": [],
   "source": [
    "moderate_loyalty_users = loyalty_df[\n",
    "    (loyalty_df['BRAND_LOYALTY'] > low_loyalty_threshold) &\n",
    "    (loyalty_df['BRAND_LOYALTY'] <= moderate_loyalty_threshold)\n",
    "]\n",
    "moderate_loyalty_df = df[df['ID'].isin(moderate_loyalty_users['ID'])].copy()\n",
    "moderate_loyalty_df['LOYALTY_SEGMENT'] = 'Moderate Loyalty'\n"
   ]
  },
  {
   "cell_type": "markdown",
   "metadata": {},
   "source": [
    "### 3. High Loyalty Segment"
   ]
  },
  {
   "cell_type": "code",
   "execution_count": 27,
   "metadata": {},
   "outputs": [],
   "source": [
    "high_loyalty_users = loyalty_df[loyalty_df['BRAND_LOYALTY'] > moderate_loyalty_threshold]\n",
    "high_loyalty_df = df[df['ID'].isin(high_loyalty_users['ID'])].copy()\n",
    "high_loyalty_df['LOYALTY_SEGMENT'] = 'High Loyalty'\n"
   ]
  },
  {
   "cell_type": "code",
   "execution_count": 28,
   "metadata": {},
   "outputs": [
    {
     "data": {
      "image/png": "[encoded data removed]",
      "text/plain": [
       "<Figure size 800x600 with 1 Axes>"
      ]
     },
     "metadata": {},
     "output_type": "display_data"
    }
   ],
   "source": [
    "top_brands_high_loyalty = high_loyalty_df['BRAND'].value_counts().head(5)\n",
    "coolwarm_colors = sns.color_palette(\"coolwarm\", n_colors=5)\n",
    "\n",
    "plt.figure(figsize=(8, 6))\n",
    "top_brands_high_loyalty.plot(kind='bar', color=coolwarm_colors)\n",
    "\n",
    "plt.title('Top Brands Among High Loyalty Users')\n",
    "plt.xlabel('Brand')\n",
    "plt.ylabel('Number of High Loyalty Users')\n",
    "plt.xticks(rotation=45)\n",
    "plt.show()"
   ]
  },
  {
   "cell_type": "markdown",
   "metadata": {},
   "source": [
    "### Combining all sub-segments into one dataframe "
   ]
  },
  {
   "cell_type": "code",
   "execution_count": 29,
   "metadata": {},
   "outputs": [],
   "source": [
    "loyalty_segments_df = pd.concat([low_loyalty_df, moderate_loyalty_df, high_loyalty_df], ignore_index=True)"
   ]
  },
  {
   "cell_type": "code",
   "execution_count": 30,
   "metadata": {},
   "outputs": [
    {
     "data": {
      "image/png": "[encoded data removed]",
      "text/plain": [
       "<Figure size 700x700 with 1 Axes>"
      ]
     },
     "metadata": {},
     "output_type": "display_data"
    }
   ],
   "source": [
    "loyalty_distribution = loyalty_segments_df['LOYALTY_SEGMENT'].value_counts()\n",
    "total_users = loyalty_segments_df['ID'].nunique()  \n",
    "\n",
    "coolwarm_colors = sns.color_palette('coolwarm', n_colors=len(loyalty_distribution))\n",
    "\n",
    "plt.figure(figsize=(7, 7))\n",
    "plt.pie(\n",
    "    loyalty_distribution, \n",
    "    labels=loyalty_distribution.index, \n",
    "    autopct='%1.1f%%', \n",
    "    startangle=140, \n",
    "    wedgeprops=dict(width=0.3), \n",
    "    colors=coolwarm_colors\n",
    ")\n",
    "\n",
    "centre_circle = plt.Circle((0, 0), 0.70, fc='white')\n",
    "fig = plt.gcf()\n",
    "fig.gca().add_artist(centre_circle)\n",
    "\n",
    "plt.text(\n",
    "    0, 0, \n",
    "    f'Total\\n{total_users}', \n",
    "    ha='center', \n",
    "    va='center', \n",
    "    fontsize=16\n",
    ")\n",
    "\n",
    "plt.title('Distribution of Loyalty Segments', fontsize=14)\n",
    "plt.show()"
   ]
  },
  {
   "cell_type": "code",
   "execution_count": 31,
   "metadata": {},
   "outputs": [
    {
     "data": {
      "image/png": "[encoded data removed]",
      "text/plain": [
       "<Figure size 1200x500 with 1 Axes>"
      ]
     },
     "metadata": {},
     "output_type": "display_data"
    }
   ],
   "source": [
    "segment_sizes = {\n",
    "    'Rare Upgraders': len(rare_df['ID'].unique()),\n",
    "    'Moderate Upgraders': len(moderate_df['ID'].unique()),\n",
    "    'Frequent Upgraders': len(frequent_df['ID'].unique()),\n",
    "    'Super Frequent Upgraders': len(super_frequent_df['ID'].unique()),\n",
    "    'High Loyalty': len(high_loyalty_df['ID'].unique()),\n",
    "    'Moderate Loyalty': len(moderate_loyalty_df['ID'].unique()),\n",
    "    'Low Loyalty': len(low_loyalty_df['ID'].unique())\n",
    "}\n",
    "\n",
    "fig, ax = plt.subplots(figsize=(12, 5))\n",
    "bars = ax.bar(segment_sizes.keys(), segment_sizes.values(), color=sns.color_palette(\"coolwarm\", len(segment_sizes)))\n",
    "\n",
    "ax.set_xlabel('Segments')\n",
    "ax.set_ylabel('Number of Users')\n",
    "ax.set_title('Distribution of Users Across Segments')\n",
    "\n",
    "plt.xticks(rotation=45, ha='right')\n",
    "\n",
    "for bar in bars:\n",
    "    yval = bar.get_height()\n",
    "    ax.text(bar.get_x() + bar.get_width()/2, yval + 100, int(yval), ha='center', va='bottom')\n",
    "\n",
    "plt.show()"
   ]
  },
  {
   "cell_type": "code",
   "execution_count": 32,
   "metadata": {},
   "outputs": [],
   "source": [
    "del rare_df, moderate_df, frequent_df, super_frequent_df, low_loyalty_df, moderate_loyalty_df, high_loyalty_df"
   ]
  },
  {
   "cell_type": "markdown",
   "metadata": {},
   "source": [
    "# Brand Transitions "
   ]
  },
  {
   "cell_type": "markdown",
   "metadata": {},
   "source": [
    "##### This analysis identifies brand switching behavior among customers. It calculates the number of transitions from one brand to another, allowing us to understand brand loyalty and switching patterns over time."
   ]
  },
  {
   "cell_type": "code",
   "execution_count": 33,
   "metadata": {},
   "outputs": [
    {
     "data": {
      "text/html": [
       "<div>\n",
       "<style scoped>\n",
       "    .dataframe tbody tr th:only-of-type {\n",
       "        vertical-align: middle;\n",
       "    }\n",
       "\n",
       "    .dataframe tbody tr th {\n",
       "        vertical-align: top;\n",
       "    }\n",
       "\n",
       "    .dataframe thead th {\n",
       "        text-align: right;\n",
       "    }\n",
       "</style>\n",
       "<table border=\"1\" class=\"dataframe\">\n",
       "  <thead>\n",
       "    <tr style=\"text-align: right;\">\n",
       "      <th></th>\n",
       "      <th>BRAND</th>\n",
       "      <th>total_users</th>\n",
       "      <th>avg_days_used</th>\n",
       "    </tr>\n",
       "  </thead>\n",
       "  <tbody>\n",
       "    <tr>\n",
       "      <th>551</th>\n",
       "      <td>Samsung</td>\n",
       "      <td>2294979</td>\n",
       "      <td>619.626692</td>\n",
       "    </tr>\n",
       "    <tr>\n",
       "      <th>34</th>\n",
       "      <td>Apple</td>\n",
       "      <td>1397386</td>\n",
       "      <td>590.099574</td>\n",
       "    </tr>\n",
       "    <tr>\n",
       "      <th>874</th>\n",
       "      <td>Xiaomi</td>\n",
       "      <td>799450</td>\n",
       "      <td>584.552732</td>\n",
       "    </tr>\n",
       "    <tr>\n",
       "      <th>438</th>\n",
       "      <td>Nokia</td>\n",
       "      <td>438188</td>\n",
       "      <td>429.177260</td>\n",
       "    </tr>\n",
       "    <tr>\n",
       "      <th>18</th>\n",
       "      <td>Alcatel</td>\n",
       "      <td>433963</td>\n",
       "      <td>493.142015</td>\n",
       "    </tr>\n",
       "    <tr>\n",
       "      <th>283</th>\n",
       "      <td>Huawei</td>\n",
       "      <td>412584</td>\n",
       "      <td>618.803348</td>\n",
       "    </tr>\n",
       "    <tr>\n",
       "      <th>194</th>\n",
       "      <td>Fly</td>\n",
       "      <td>208794</td>\n",
       "      <td>410.337340</td>\n",
       "    </tr>\n",
       "    <tr>\n",
       "      <th>356</th>\n",
       "      <td>Lenovo</td>\n",
       "      <td>207254</td>\n",
       "      <td>549.972116</td>\n",
       "    </tr>\n",
       "    <tr>\n",
       "      <th>347</th>\n",
       "      <td>LG</td>\n",
       "      <td>150408</td>\n",
       "      <td>565.255800</td>\n",
       "    </tr>\n",
       "    <tr>\n",
       "      <th>249</th>\n",
       "      <td>HTC</td>\n",
       "      <td>150306</td>\n",
       "      <td>482.361531</td>\n",
       "    </tr>\n",
       "  </tbody>\n",
       "</table>\n",
       "</div>"
      ],
      "text/plain": [
       "       BRAND  total_users  avg_days_used\n",
       "551  Samsung      2294979     619.626692\n",
       "34     Apple      1397386     590.099574\n",
       "874   Xiaomi       799450     584.552732\n",
       "438    Nokia       438188     429.177260\n",
       "18   Alcatel       433963     493.142015\n",
       "283   Huawei       412584     618.803348\n",
       "194      Fly       208794     410.337340\n",
       "356   Lenovo       207254     549.972116\n",
       "347       LG       150408     565.255800\n",
       "249      HTC       150306     482.361531"
      ]
     },
     "execution_count": 33,
     "metadata": {},
     "output_type": "execute_result"
    }
   ],
   "source": [
    "# Calculating the number of users and average days used per brand\n",
    "brand_aggregation = df.groupby('BRAND').agg(\n",
    "    total_users=('ID', 'nunique'), \n",
    "    avg_days_used=('DAYS_USED', 'mean')\n",
    ").reset_index()\n",
    "\n",
    "# Sorting by total_users and displaying the top 10 brands\n",
    "top_brands_by_users = brand_aggregation.sort_values(by='total_users', ascending=False).head(10)\n",
    "top_brands_by_users"
   ]
  },
  {
   "cell_type": "code",
   "execution_count": 34,
   "metadata": {},
   "outputs": [],
   "source": [
    "transitions_df = df.copy()\n",
    "\n",
    "# Sorting the df by 'ID' and 'START_DATE' to ensure correct order of purchases\n",
    "transitions_df = transitions_df.sort_values(by=['ID', 'START_DATE'])\n",
    "\n",
    "# Creating a new column 'PREV_BRAND' to capture the previous brand used by the same user\n",
    "transitions_df['PREV_BRAND'] = transitions_df.groupby('ID')['BRAND'].shift(1)\n",
    "\n",
    "# Creating 'BRAND_TRANSITION' column to show transitions from one brand to the next \n",
    "# This is done only when there is a previous brand available (not null)\n",
    "transitions_df['BRAND_TRANSITION'] = transitions_df.apply(\n",
    "    lambda x: f\"{x['PREV_BRAND']} -> {x['BRAND']}\" if pd.notnull(x['PREV_BRAND']) else None, axis=1\n",
    ")"
   ]
  },
  {
   "cell_type": "code",
   "execution_count": 35,
   "metadata": {},
   "outputs": [
    {
     "data": {
      "text/html": [
       "<div>\n",
       "<style scoped>\n",
       "    .dataframe tbody tr th:only-of-type {\n",
       "        vertical-align: middle;\n",
       "    }\n",
       "\n",
       "    .dataframe tbody tr th {\n",
       "        vertical-align: top;\n",
       "    }\n",
       "\n",
       "    .dataframe thead th {\n",
       "        text-align: right;\n",
       "    }\n",
       "</style>\n",
       "<table border=\"1\" class=\"dataframe\">\n",
       "  <thead>\n",
       "    <tr style=\"text-align: right;\">\n",
       "      <th></th>\n",
       "      <th>BRAND_TRANSITION</th>\n",
       "      <th>COUNT</th>\n",
       "    </tr>\n",
       "  </thead>\n",
       "  <tbody>\n",
       "    <tr>\n",
       "      <th>17289</th>\n",
       "      <td>Samsung -&gt; Samsung</td>\n",
       "      <td>1767063</td>\n",
       "    </tr>\n",
       "    <tr>\n",
       "      <th>1069</th>\n",
       "      <td>Apple -&gt; Apple</td>\n",
       "      <td>847005</td>\n",
       "    </tr>\n",
       "    <tr>\n",
       "      <th>16896</th>\n",
       "      <td>Samsung -&gt; Apple</td>\n",
       "      <td>685482</td>\n",
       "    </tr>\n",
       "    <tr>\n",
       "      <th>1431</th>\n",
       "      <td>Apple -&gt; Samsung</td>\n",
       "      <td>541505</td>\n",
       "    </tr>\n",
       "    <tr>\n",
       "      <th>17514</th>\n",
       "      <td>Samsung -&gt; Xiaomi</td>\n",
       "      <td>373265</td>\n",
       "    </tr>\n",
       "    <tr>\n",
       "      <th>23415</th>\n",
       "      <td>Xiaomi -&gt; Samsung</td>\n",
       "      <td>206118</td>\n",
       "    </tr>\n",
       "    <tr>\n",
       "      <th>626</th>\n",
       "      <td>Alcatel -&gt; Samsung</td>\n",
       "      <td>189570</td>\n",
       "    </tr>\n",
       "    <tr>\n",
       "      <th>14616</th>\n",
       "      <td>Nokia -&gt; Samsung</td>\n",
       "      <td>175599</td>\n",
       "    </tr>\n",
       "    <tr>\n",
       "      <th>9408</th>\n",
       "      <td>Huawei -&gt; Samsung</td>\n",
       "      <td>152388</td>\n",
       "    </tr>\n",
       "    <tr>\n",
       "      <th>17090</th>\n",
       "      <td>Samsung -&gt; Huawei</td>\n",
       "      <td>142309</td>\n",
       "    </tr>\n",
       "  </tbody>\n",
       "</table>\n",
       "</div>"
      ],
      "text/plain": [
       "         BRAND_TRANSITION    COUNT\n",
       "17289  Samsung -> Samsung  1767063\n",
       "1069       Apple -> Apple   847005\n",
       "16896    Samsung -> Apple   685482\n",
       "1431     Apple -> Samsung   541505\n",
       "17514   Samsung -> Xiaomi   373265\n",
       "23415   Xiaomi -> Samsung   206118\n",
       "626    Alcatel -> Samsung   189570\n",
       "14616    Nokia -> Samsung   175599\n",
       "9408    Huawei -> Samsung   152388\n",
       "17090   Samsung -> Huawei   142309"
      ]
     },
     "execution_count": 35,
     "metadata": {},
     "output_type": "execute_result"
    }
   ],
   "source": [
    "# Dropping rows where 'BRAND_TRANSITION' is null, keeping only actual transitions\n",
    "transitions_only = transitions_df.dropna(subset=['BRAND_TRANSITION'])\n",
    "\n",
    "# Grouping by 'BRAND_TRANSITION' to count the number of occurrences of each brand transition\n",
    "brand_transitions = transitions_only.groupby('BRAND_TRANSITION').size().reset_index(name='COUNT')\n",
    "\n",
    "# Selecting the top 10 most common brand transitions based on their count\n",
    "top_transitions = brand_transitions.nlargest(10, 'COUNT')\n",
    "top_transitions"
   ]
  },
  {
   "cell_type": "markdown",
   "metadata": {},
   "source": [
    "### Visualizing the most frequent brand switches among customers."
   ]
  },
  {
   "cell_type": "code",
   "execution_count": 36,
   "metadata": {},
   "outputs": [
    {
     "data": {
      "application/vnd.plotly.v1+json": {
       "config": {
        "plotlyServerURL": "https://plot.ly"
       },
       "data": [
        {
         "counts": [
          1767063,
          847005,
          685482,
          541505,
          373265,
          206118,
          189570,
          175599,
          152388,
          142309
         ],
         "dimensions": [
          {
           "label": "Source",
           "values": [
            "Samsung",
            "Apple",
            "Samsung",
            "Apple",
            "Samsung",
            "Xiaomi",
            "Alcatel",
            "Nokia",
            "Huawei",
            "Samsung"
           ]
          },
          {
           "label": "Target",
           "values": [
            "Samsung",
            "Apple",
            "Apple",
            "Samsung",
            "Xiaomi",
            "Samsung",
            "Samsung",
            "Samsung",
            "Samsung",
            "Huawei"
           ]
          }
         ],
         "hoveron": "dimension",
         "line": {
          "color": [
           1767063,
           847005,
           685482,
           541505,
           373265,
           206118,
           189570,
           175599,
           152388,
           142309
          ],
          "colorscale": [
           [
            0,
            "#5673e0"
           ],
           [
            0.1111111111111111,
            "#7597f6"
           ],
           [
            0.2222222222222222,
            "#94b6ff"
           ],
           [
            0.3333333333333333,
            "#b5cdfa"
           ],
           [
            0.4444444444444444,
            "#d1dae9"
           ],
           [
            0.5555555555555556,
            "#e8d6cc"
           ],
           [
            0.6666666666666666,
            "#f5c1a9"
           ],
           [
            0.7777777777777778,
            "#f6a283"
           ],
           [
            0.8888888888888888,
            "#ea7b60"
           ],
           [
            1,
            "#d44e41"
           ]
          ],
          "shape": "hspline"
         },
         "type": "parcats"
        }
       ],
       "layout": {
        "font": {
         "size": 10
        },
        "template": {
         "data": {
          "bar": [
           {
            "error_x": {
             "color": "#2a3f5f"
            },
            "error_y": {
             "color": "#2a3f5f"
            },
            "marker": {
             "line": {
              "color": "#E5ECF6",
              "width": 0.5
             },
             "pattern": {
              "fillmode": "overlay",
              "size": 10,
              "solidity": 0.2
             }
            },
            "type": "bar"
           }
          ],
          "barpolar": [
           {
            "marker": {
             "line": {
              "color": "#E5ECF6",
              "width": 0.5
             },
             "pattern": {
              "fillmode": "overlay",
              "size": 10,
              "solidity": 0.2
             }
            },
            "type": "barpolar"
           }
          ],
          "carpet": [
           {
            "aaxis": {
             "endlinecolor": "#2a3f5f",
             "gridcolor": "white",
             "linecolor": "white",
             "minorgridcolor": "white",
             "startlinecolor": "#2a3f5f"
            },
            "baxis": {
             "endlinecolor": "#2a3f5f",
             "gridcolor": "white",
             "linecolor": "white",
             "minorgridcolor": "white",
             "startlinecolor": "#2a3f5f"
            },
            "type": "carpet"
           }
          ],
          "choropleth": [
           {
            "colorbar": {
             "outlinewidth": 0,
             "ticks": ""
            },
            "type": "choropleth"
           }
          ],
          "contour": [
           {
            "colorbar": {
             "outlinewidth": 0,
             "ticks": ""
            },
            "colorscale": [
             [
              0,
              "#0d0887"
             ],
             [
              0.1111111111111111,
              "#46039f"
             ],
             [
              0.2222222222222222,
              "#7201a8"
             ],
             [
              0.3333333333333333,
              "#9c179e"
             ],
             [
              0.4444444444444444,
              "#bd3786"
             ],
             [
              0.5555555555555556,
              "#d8576b"
             ],
             [
              0.6666666666666666,
              "#ed7953"
             ],
             [
              0.7777777777777778,
              "#fb9f3a"
             ],
             [
              0.8888888888888888,
              "#fdca26"
             ],
             [
              1,
              "#f0f921"
             ]
            ],
            "type": "contour"
           }
          ],
          "contourcarpet": [
           {
            "colorbar": {
             "outlinewidth": 0,
             "ticks": ""
            },
            "type": "contourcarpet"
           }
          ],
          "heatmap": [
           {
            "colorbar": {
             "outlinewidth": 0,
             "ticks": ""
            },
            "colorscale": [
             [
              0,
              "#0d0887"
             ],
             [
              0.1111111111111111,
              "#46039f"
             ],
             [
              0.2222222222222222,
              "#7201a8"
             ],
             [
              0.3333333333333333,
              "#9c179e"
             ],
             [
              0.4444444444444444,
              "#bd3786"
             ],
             [
              0.5555555555555556,
              "#d8576b"
             ],
             [
              0.6666666666666666,
              "#ed7953"
             ],
             [
              0.7777777777777778,
              "#fb9f3a"
             ],
             [
              0.8888888888888888,
              "#fdca26"
             ],
             [
              1,
              "#f0f921"
             ]
            ],
            "type": "heatmap"
           }
          ],
          "heatmapgl": [
           {
            "colorbar": {
             "outlinewidth": 0,
             "ticks": ""
            },
            "colorscale": [
             [
              0,
              "#0d0887"
             ],
             [
              0.1111111111111111,
              "#46039f"
             ],
             [
              0.2222222222222222,
              "#7201a8"
             ],
             [
              0.3333333333333333,
              "#9c179e"
             ],
             [
              0.4444444444444444,
              "#bd3786"
             ],
             [
              0.5555555555555556,
              "#d8576b"
             ],
             [
              0.6666666666666666,
              "#ed7953"
             ],
             [
              0.7777777777777778,
              "#fb9f3a"
             ],
             [
              0.8888888888888888,
              "#fdca26"
             ],
             [
              1,
              "#f0f921"
             ]
            ],
            "type": "heatmapgl"
           }
          ],
          "histogram": [
           {
            "marker": {
             "pattern": {
              "fillmode": "overlay",
              "size": 10,
              "solidity": 0.2
             }
            },
            "type": "histogram"
           }
          ],
          "histogram2d": [
           {
            "colorbar": {
             "outlinewidth": 0,
             "ticks": ""
            },
            "colorscale": [
             [
              0,
              "#0d0887"
             ],
             [
              0.1111111111111111,
              "#46039f"
             ],
             [
              0.2222222222222222,
              "#7201a8"
             ],
             [
              0.3333333333333333,
              "#9c179e"
             ],
             [
              0.4444444444444444,
              "#bd3786"
             ],
             [
              0.5555555555555556,
              "#d8576b"
             ],
             [
              0.6666666666666666,
              "#ed7953"
             ],
             [
              0.7777777777777778,
              "#fb9f3a"
             ],
             [
              0.8888888888888888,
              "#fdca26"
             ],
             [
              1,
              "#f0f921"
             ]
            ],
            "type": "histogram2d"
           }
          ],
          "histogram2dcontour": [
           {
            "colorbar": {
             "outlinewidth": 0,
             "ticks": ""
            },
            "colorscale": [
             [
              0,
              "#0d0887"
             ],
             [
              0.1111111111111111,
              "#46039f"
             ],
             [
              0.2222222222222222,
              "#7201a8"
             ],
             [
              0.3333333333333333,
              "#9c179e"
             ],
             [
              0.4444444444444444,
              "#bd3786"
             ],
             [
              0.5555555555555556,
              "#d8576b"
             ],
             [
              0.6666666666666666,
              "#ed7953"
             ],
             [
              0.7777777777777778,
              "#fb9f3a"
             ],
             [
              0.8888888888888888,
              "#fdca26"
             ],
             [
              1,
              "#f0f921"
             ]
            ],
            "type": "histogram2dcontour"
           }
          ],
          "mesh3d": [
           {
            "colorbar": {
             "outlinewidth": 0,
             "ticks": ""
            },
            "type": "mesh3d"
           }
          ],
          "parcoords": [
           {
            "line": {
             "colorbar": {
              "outlinewidth": 0,
              "ticks": ""
             }
            },
            "type": "parcoords"
           }
          ],
          "pie": [
           {
            "automargin": true,
            "type": "pie"
           }
          ],
          "scatter": [
           {
            "fillpattern": {
             "fillmode": "overlay",
             "size": 10,
             "solidity": 0.2
            },
            "type": "scatter"
           }
          ],
          "scatter3d": [
           {
            "line": {
             "colorbar": {
              "outlinewidth": 0,
              "ticks": ""
             }
            },
            "marker": {
             "colorbar": {
              "outlinewidth": 0,
              "ticks": ""
             }
            },
            "type": "scatter3d"
           }
          ],
          "scattercarpet": [
           {
            "marker": {
             "colorbar": {
              "outlinewidth": 0,
              "ticks": ""
             }
            },
            "type": "scattercarpet"
           }
          ],
          "scattergeo": [
           {
            "marker": {
             "colorbar": {
              "outlinewidth": 0,
              "ticks": ""
             }
            },
            "type": "scattergeo"
           }
          ],
          "scattergl": [
           {
            "marker": {
             "colorbar": {
              "outlinewidth": 0,
              "ticks": ""
             }
            },
            "type": "scattergl"
           }
          ],
          "scattermapbox": [
           {
            "marker": {
             "colorbar": {
              "outlinewidth": 0,
              "ticks": ""
             }
            },
            "type": "scattermapbox"
           }
          ],
          "scatterpolar": [
           {
            "marker": {
             "colorbar": {
              "outlinewidth": 0,
              "ticks": ""
             }
            },
            "type": "scatterpolar"
           }
          ],
          "scatterpolargl": [
           {
            "marker": {
             "colorbar": {
              "outlinewidth": 0,
              "ticks": ""
             }
            },
            "type": "scatterpolargl"
           }
          ],
          "scatterternary": [
           {
            "marker": {
             "colorbar": {
              "outlinewidth": 0,
              "ticks": ""
             }
            },
            "type": "scatterternary"
           }
          ],
          "surface": [
           {
            "colorbar": {
             "outlinewidth": 0,
             "ticks": ""
            },
            "colorscale": [
             [
              0,
              "#0d0887"
             ],
             [
              0.1111111111111111,
              "#46039f"
             ],
             [
              0.2222222222222222,
              "#7201a8"
             ],
             [
              0.3333333333333333,
              "#9c179e"
             ],
             [
              0.4444444444444444,
              "#bd3786"
             ],
             [
              0.5555555555555556,
              "#d8576b"
             ],
             [
              0.6666666666666666,
              "#ed7953"
             ],
             [
              0.7777777777777778,
              "#fb9f3a"
             ],
             [
              0.8888888888888888,
              "#fdca26"
             ],
             [
              1,
              "#f0f921"
             ]
            ],
            "type": "surface"
           }
          ],
          "table": [
           {
            "cells": {
             "fill": {
              "color": "#EBF0F8"
             },
             "line": {
              "color": "white"
             }
            },
            "header": {
             "fill": {
              "color": "#C8D4E3"
             },
             "line": {
              "color": "white"
             }
            },
            "type": "table"
           }
          ]
         },
         "layout": {
          "annotationdefaults": {
           "arrowcolor": "#2a3f5f",
           "arrowhead": 0,
           "arrowwidth": 1
          },
          "autotypenumbers": "strict",
          "coloraxis": {
           "colorbar": {
            "outlinewidth": 0,
            "ticks": ""
           }
          },
          "colorscale": {
           "diverging": [
            [
             0,
             "#8e0152"
            ],
            [
             0.1,
             "#c51b7d"
            ],
            [
             0.2,
             "#de77ae"
            ],
            [
             0.3,
             "#f1b6da"
            ],
            [
             0.4,
             "#fde0ef"
            ],
            [
             0.5,
             "#f7f7f7"
            ],
            [
             0.6,
             "#e6f5d0"
            ],
            [
             0.7,
             "#b8e186"
            ],
            [
             0.8,
             "#7fbc41"
            ],
            [
             0.9,
             "#4d9221"
            ],
            [
             1,
             "#276419"
            ]
           ],
           "sequential": [
            [
             0,
             "#0d0887"
            ],
            [
             0.1111111111111111,
             "#46039f"
            ],
            [
             0.2222222222222222,
             "#7201a8"
            ],
            [
             0.3333333333333333,
             "#9c179e"
            ],
            [
             0.4444444444444444,
             "#bd3786"
            ],
            [
             0.5555555555555556,
             "#d8576b"
            ],
            [
             0.6666666666666666,
             "#ed7953"
            ],
            [
             0.7777777777777778,
             "#fb9f3a"
            ],
            [
             0.8888888888888888,
             "#fdca26"
            ],
            [
             1,
             "#f0f921"
            ]
           ],
           "sequentialminus": [
            [
             0,
             "#0d0887"
            ],
            [
             0.1111111111111111,
             "#46039f"
            ],
            [
             0.2222222222222222,
             "#7201a8"
            ],
            [
             0.3333333333333333,
             "#9c179e"
            ],
            [
             0.4444444444444444,
             "#bd3786"
            ],
            [
             0.5555555555555556,
             "#d8576b"
            ],
            [
             0.6666666666666666,
             "#ed7953"
            ],
            [
             0.7777777777777778,
             "#fb9f3a"
            ],
            [
             0.8888888888888888,
             "#fdca26"
            ],
            [
             1,
             "#f0f921"
            ]
           ]
          },
          "colorway": [
           "#636efa",
           "#EF553B",
           "#00cc96",
           "#ab63fa",
           "#FFA15A",
           "#19d3f3",
           "#FF6692",
           "#B6E880",
           "#FF97FF",
           "#FECB52"
          ],
          "font": {
           "color": "#2a3f5f"
          },
          "geo": {
           "bgcolor": "white",
           "lakecolor": "white",
           "landcolor": "#E5ECF6",
           "showlakes": true,
           "showland": true,
           "subunitcolor": "white"
          },
          "hoverlabel": {
           "align": "left"
          },
          "hovermode": "closest",
          "mapbox": {
           "style": "light"
          },
          "paper_bgcolor": "white",
          "plot_bgcolor": "#E5ECF6",
          "polar": {
           "angularaxis": {
            "gridcolor": "white",
            "linecolor": "white",
            "ticks": ""
           },
           "bgcolor": "#E5ECF6",
           "radialaxis": {
            "gridcolor": "white",
            "linecolor": "white",
            "ticks": ""
           }
          },
          "scene": {
           "xaxis": {
            "backgroundcolor": "#E5ECF6",
            "gridcolor": "white",
            "gridwidth": 2,
            "linecolor": "white",
            "showbackground": true,
            "ticks": "",
            "zerolinecolor": "white"
           },
           "yaxis": {
            "backgroundcolor": "#E5ECF6",
            "gridcolor": "white",
            "gridwidth": 2,
            "linecolor": "white",
            "showbackground": true,
            "ticks": "",
            "zerolinecolor": "white"
           },
           "zaxis": {
            "backgroundcolor": "#E5ECF6",
            "gridcolor": "white",
            "gridwidth": 2,
            "linecolor": "white",
            "showbackground": true,
            "ticks": "",
            "zerolinecolor": "white"
           }
          },
          "shapedefaults": {
           "line": {
            "color": "#2a3f5f"
           }
          },
          "ternary": {
           "aaxis": {
            "gridcolor": "white",
            "linecolor": "white",
            "ticks": ""
           },
           "baxis": {
            "gridcolor": "white",
            "linecolor": "white",
            "ticks": ""
           },
           "bgcolor": "#E5ECF6",
           "caxis": {
            "gridcolor": "white",
            "linecolor": "white",
            "ticks": ""
           }
          },
          "title": {
           "x": 0.05
          },
          "xaxis": {
           "automargin": true,
           "gridcolor": "white",
           "linecolor": "white",
           "ticks": "",
           "title": {
            "standoff": 15
           },
           "zerolinecolor": "white",
           "zerolinewidth": 2
          },
          "yaxis": {
           "automargin": true,
           "gridcolor": "white",
           "linecolor": "white",
           "ticks": "",
           "title": {
            "standoff": 15
           },
           "zerolinecolor": "white",
           "zerolinewidth": 2
          }
         }
        },
        "title": {
         "text": "Chord Diagram for Top 10 Brand Transitions"
        }
       }
      }
     },
     "metadata": {},
     "output_type": "display_data"
    }
   ],
   "source": [
    "# Extracting the source and target brands from the 'BRAND_TRANSITION' column\n",
    "# 'source' captures the initial brand, and 'target' captures the brand transitioned to\n",
    "source = top_transitions['BRAND_TRANSITION'].apply(lambda x: x.split(' -> ')[0]).tolist()\n",
    "target = top_transitions['BRAND_TRANSITION'].apply(lambda x: x.split(' -> ')[1]).tolist()\n",
    "\n",
    "# Extracting the transition counts to represent the values for the chord diagram\n",
    "values = top_transitions['COUNT'].tolist()\n",
    "\n",
    "brand_labels = list(set(source + target))\n",
    "\n",
    "# Initializing an adjacency matrix to represent the connections between brands\n",
    "adj_matrix = pd.DataFrame(0, index=brand_labels, columns=brand_labels)\n",
    "\n",
    "# Populating the adjacency matrix with transition values (counts) between source and target brands\n",
    "for s, t, v in zip(source, target, values):\n",
    "    adj_matrix.loc[s, t] = v\n",
    "\n",
    "coolwarm_colors = sns.color_palette(\"coolwarm\", len(values)).as_hex()\n",
    "\n",
    "fig = go.Figure(data=go.Parcats(\n",
    "    dimensions=[\n",
    "        {'label': 'Source', 'values': source},\n",
    "        {'label': 'Target', 'values': target},\n",
    "    ],\n",
    "    line={'color': values, 'colorscale': coolwarm_colors, 'shape': 'hspline'},\n",
    "    hoveron='dimension',\n",
    "    counts=values\n",
    "))\n",
    "\n",
    "fig.update_layout(\n",
    "    title_text=\"Chord Diagram for Top 10 Brand Transitions\",\n",
    "    font_size=10,\n",
    ")\n",
    "\n",
    "fig.show()"
   ]
  },
  {
   "cell_type": "markdown",
   "metadata": {},
   "source": [
    "### Visualizing the most frequent brand switches among customers, but this time excluding instances where customers remain with the same brand (self-transitions)."
   ]
  },
  {
   "cell_type": "code",
   "execution_count": 37,
   "metadata": {},
   "outputs": [
    {
     "data": {
      "application/vnd.plotly.v1+json": {
       "config": {
        "plotlyServerURL": "https://plot.ly"
       },
       "data": [
        {
         "counts": [
          685482,
          541505,
          373265,
          206118,
          189570,
          175599,
          152388,
          142309
         ],
         "dimensions": [
          {
           "label": "Source",
           "values": [
            "Samsung",
            "Apple",
            "Samsung",
            "Xiaomi",
            "Alcatel",
            "Nokia",
            "Huawei",
            "Samsung"
           ]
          },
          {
           "label": "Target",
           "values": [
            "Apple",
            "Samsung",
            "Xiaomi",
            "Samsung",
            "Samsung",
            "Samsung",
            "Samsung",
            "Huawei"
           ]
          }
         ],
         "hoveron": "dimension",
         "line": {
          "color": [
           685482,
           541505,
           373265,
           206118,
           189570,
           175599,
           152388,
           142309
          ],
          "colorscale": [
           [
            0,
            "#5d7ce6"
           ],
           [
            0.14285714285714285,
            "#82a6fb"
           ],
           [
            0.2857142857142857,
            "#aac7fd"
           ],
           [
            0.42857142857142855,
            "#cdd9ec"
           ],
           [
            0.5714285714285714,
            "#ead4c8"
           ],
           [
            0.7142857142857143,
            "#f7b89c"
           ],
           [
            0.8571428571428571,
            "#f18d6f"
           ],
           [
            1,
            "#d95847"
           ]
          ],
          "shape": "hspline"
         },
         "type": "parcats"
        }
       ],
       "layout": {
        "font": {
         "size": 10
        },
        "template": {
         "data": {
          "bar": [
           {
            "error_x": {
             "color": "#2a3f5f"
            },
            "error_y": {
             "color": "#2a3f5f"
            },
            "marker": {
             "line": {
              "color": "#E5ECF6",
              "width": 0.5
             },
             "pattern": {
              "fillmode": "overlay",
              "size": 10,
              "solidity": 0.2
             }
            },
            "type": "bar"
           }
          ],
          "barpolar": [
           {
            "marker": {
             "line": {
              "color": "#E5ECF6",
              "width": 0.5
             },
             "pattern": {
              "fillmode": "overlay",
              "size": 10,
              "solidity": 0.2
             }
            },
            "type": "barpolar"
           }
          ],
          "carpet": [
           {
            "aaxis": {
             "endlinecolor": "#2a3f5f",
             "gridcolor": "white",
             "linecolor": "white",
             "minorgridcolor": "white",
             "startlinecolor": "#2a3f5f"
            },
            "baxis": {
             "endlinecolor": "#2a3f5f",
             "gridcolor": "white",
             "linecolor": "white",
             "minorgridcolor": "white",
             "startlinecolor": "#2a3f5f"
            },
            "type": "carpet"
           }
          ],
          "choropleth": [
           {
            "colorbar": {
             "outlinewidth": 0,
             "ticks": ""
            },
            "type": "choropleth"
           }
          ],
          "contour": [
           {
            "colorbar": {
             "outlinewidth": 0,
             "ticks": ""
            },
            "colorscale": [
             [
              0,
              "#0d0887"
             ],
             [
              0.1111111111111111,
              "#46039f"
             ],
             [
              0.2222222222222222,
              "#7201a8"
             ],
             [
              0.3333333333333333,
              "#9c179e"
             ],
             [
              0.4444444444444444,
              "#bd3786"
             ],
             [
              0.5555555555555556,
              "#d8576b"
             ],
             [
              0.6666666666666666,
              "#ed7953"
             ],
             [
              0.7777777777777778,
              "#fb9f3a"
             ],
             [
              0.8888888888888888,
              "#fdca26"
             ],
             [
              1,
              "#f0f921"
             ]
            ],
            "type": "contour"
           }
          ],
          "contourcarpet": [
           {
            "colorbar": {
             "outlinewidth": 0,
             "ticks": ""
            },
            "type": "contourcarpet"
           }
          ],
          "heatmap": [
           {
            "colorbar": {
             "outlinewidth": 0,
             "ticks": ""
            },
            "colorscale": [
             [
              0,
              "#0d0887"
             ],
             [
              0.1111111111111111,
              "#46039f"
             ],
             [
              0.2222222222222222,
              "#7201a8"
             ],
             [
              0.3333333333333333,
              "#9c179e"
             ],
             [
              0.4444444444444444,
              "#bd3786"
             ],
             [
              0.5555555555555556,
              "#d8576b"
             ],
             [
              0.6666666666666666,
              "#ed7953"
             ],
             [
              0.7777777777777778,
              "#fb9f3a"
             ],
             [
              0.8888888888888888,
              "#fdca26"
             ],
             [
              1,
              "#f0f921"
             ]
            ],
            "type": "heatmap"
           }
          ],
          "heatmapgl": [
           {
            "colorbar": {
             "outlinewidth": 0,
             "ticks": ""
            },
            "colorscale": [
             [
              0,
              "#0d0887"
             ],
             [
              0.1111111111111111,
              "#46039f"
             ],
             [
              0.2222222222222222,
              "#7201a8"
             ],
             [
              0.3333333333333333,
              "#9c179e"
             ],
             [
              0.4444444444444444,
              "#bd3786"
             ],
             [
              0.5555555555555556,
              "#d8576b"
             ],
             [
              0.6666666666666666,
              "#ed7953"
             ],
             [
              0.7777777777777778,
              "#fb9f3a"
             ],
             [
              0.8888888888888888,
              "#fdca26"
             ],
             [
              1,
              "#f0f921"
             ]
            ],
            "type": "heatmapgl"
           }
          ],
          "histogram": [
           {
            "marker": {
             "pattern": {
              "fillmode": "overlay",
              "size": 10,
              "solidity": 0.2
             }
            },
            "type": "histogram"
           }
          ],
          "histogram2d": [
           {
            "colorbar": {
             "outlinewidth": 0,
             "ticks": ""
            },
            "colorscale": [
             [
              0,
              "#0d0887"
             ],
             [
              0.1111111111111111,
              "#46039f"
             ],
             [
              0.2222222222222222,
              "#7201a8"
             ],
             [
              0.3333333333333333,
              "#9c179e"
             ],
             [
              0.4444444444444444,
              "#bd3786"
             ],
             [
              0.5555555555555556,
              "#d8576b"
             ],
             [
              0.6666666666666666,
              "#ed7953"
             ],
             [
              0.7777777777777778,
              "#fb9f3a"
             ],
             [
              0.8888888888888888,
              "#fdca26"
             ],
             [
              1,
              "#f0f921"
             ]
            ],
            "type": "histogram2d"
           }
          ],
          "histogram2dcontour": [
           {
            "colorbar": {
             "outlinewidth": 0,
             "ticks": ""
            },
            "colorscale": [
             [
              0,
              "#0d0887"
             ],
             [
              0.1111111111111111,
              "#46039f"
             ],
             [
              0.2222222222222222,
              "#7201a8"
             ],
             [
              0.3333333333333333,
              "#9c179e"
             ],
             [
              0.4444444444444444,
              "#bd3786"
             ],
             [
              0.5555555555555556,
              "#d8576b"
             ],
             [
              0.6666666666666666,
              "#ed7953"
             ],
             [
              0.7777777777777778,
              "#fb9f3a"
             ],
             [
              0.8888888888888888,
              "#fdca26"
             ],
             [
              1,
              "#f0f921"
             ]
            ],
            "type": "histogram2dcontour"
           }
          ],
          "mesh3d": [
           {
            "colorbar": {
             "outlinewidth": 0,
             "ticks": ""
            },
            "type": "mesh3d"
           }
          ],
          "parcoords": [
           {
            "line": {
             "colorbar": {
              "outlinewidth": 0,
              "ticks": ""
             }
            },
            "type": "parcoords"
           }
          ],
          "pie": [
           {
            "automargin": true,
            "type": "pie"
           }
          ],
          "scatter": [
           {
            "fillpattern": {
             "fillmode": "overlay",
             "size": 10,
             "solidity": 0.2
            },
            "type": "scatter"
           }
          ],
          "scatter3d": [
           {
            "line": {
             "colorbar": {
              "outlinewidth": 0,
              "ticks": ""
             }
            },
            "marker": {
             "colorbar": {
              "outlinewidth": 0,
              "ticks": ""
             }
            },
            "type": "scatter3d"
           }
          ],
          "scattercarpet": [
           {
            "marker": {
             "colorbar": {
              "outlinewidth": 0,
              "ticks": ""
             }
            },
            "type": "scattercarpet"
           }
          ],
          "scattergeo": [
           {
            "marker": {
             "colorbar": {
              "outlinewidth": 0,
              "ticks": ""
             }
            },
            "type": "scattergeo"
           }
          ],
          "scattergl": [
           {
            "marker": {
             "colorbar": {
              "outlinewidth": 0,
              "ticks": ""
             }
            },
            "type": "scattergl"
           }
          ],
          "scattermapbox": [
           {
            "marker": {
             "colorbar": {
              "outlinewidth": 0,
              "ticks": ""
             }
            },
            "type": "scattermapbox"
           }
          ],
          "scatterpolar": [
           {
            "marker": {
             "colorbar": {
              "outlinewidth": 0,
              "ticks": ""
             }
            },
            "type": "scatterpolar"
           }
          ],
          "scatterpolargl": [
           {
            "marker": {
             "colorbar": {
              "outlinewidth": 0,
              "ticks": ""
             }
            },
            "type": "scatterpolargl"
           }
          ],
          "scatterternary": [
           {
            "marker": {
             "colorbar": {
              "outlinewidth": 0,
              "ticks": ""
             }
            },
            "type": "scatterternary"
           }
          ],
          "surface": [
           {
            "colorbar": {
             "outlinewidth": 0,
             "ticks": ""
            },
            "colorscale": [
             [
              0,
              "#0d0887"
             ],
             [
              0.1111111111111111,
              "#46039f"
             ],
             [
              0.2222222222222222,
              "#7201a8"
             ],
             [
              0.3333333333333333,
              "#9c179e"
             ],
             [
              0.4444444444444444,
              "#bd3786"
             ],
             [
              0.5555555555555556,
              "#d8576b"
             ],
             [
              0.6666666666666666,
              "#ed7953"
             ],
             [
              0.7777777777777778,
              "#fb9f3a"
             ],
             [
              0.8888888888888888,
              "#fdca26"
             ],
             [
              1,
              "#f0f921"
             ]
            ],
            "type": "surface"
           }
          ],
          "table": [
           {
            "cells": {
             "fill": {
              "color": "#EBF0F8"
             },
             "line": {
              "color": "white"
             }
            },
            "header": {
             "fill": {
              "color": "#C8D4E3"
             },
             "line": {
              "color": "white"
             }
            },
            "type": "table"
           }
          ]
         },
         "layout": {
          "annotationdefaults": {
           "arrowcolor": "#2a3f5f",
           "arrowhead": 0,
           "arrowwidth": 1
          },
          "autotypenumbers": "strict",
          "coloraxis": {
           "colorbar": {
            "outlinewidth": 0,
            "ticks": ""
           }
          },
          "colorscale": {
           "diverging": [
            [
             0,
             "#8e0152"
            ],
            [
             0.1,
             "#c51b7d"
            ],
            [
             0.2,
             "#de77ae"
            ],
            [
             0.3,
             "#f1b6da"
            ],
            [
             0.4,
             "#fde0ef"
            ],
            [
             0.5,
             "#f7f7f7"
            ],
            [
             0.6,
             "#e6f5d0"
            ],
            [
             0.7,
             "#b8e186"
            ],
            [
             0.8,
             "#7fbc41"
            ],
            [
             0.9,
             "#4d9221"
            ],
            [
             1,
             "#276419"
            ]
           ],
           "sequential": [
            [
             0,
             "#0d0887"
            ],
            [
             0.1111111111111111,
             "#46039f"
            ],
            [
             0.2222222222222222,
             "#7201a8"
            ],
            [
             0.3333333333333333,
             "#9c179e"
            ],
            [
             0.4444444444444444,
             "#bd3786"
            ],
            [
             0.5555555555555556,
             "#d8576b"
            ],
            [
             0.6666666666666666,
             "#ed7953"
            ],
            [
             0.7777777777777778,
             "#fb9f3a"
            ],
            [
             0.8888888888888888,
             "#fdca26"
            ],
            [
             1,
             "#f0f921"
            ]
           ],
           "sequentialminus": [
            [
             0,
             "#0d0887"
            ],
            [
             0.1111111111111111,
             "#46039f"
            ],
            [
             0.2222222222222222,
             "#7201a8"
            ],
            [
             0.3333333333333333,
             "#9c179e"
            ],
            [
             0.4444444444444444,
             "#bd3786"
            ],
            [
             0.5555555555555556,
             "#d8576b"
            ],
            [
             0.6666666666666666,
             "#ed7953"
            ],
            [
             0.7777777777777778,
             "#fb9f3a"
            ],
            [
             0.8888888888888888,
             "#fdca26"
            ],
            [
             1,
             "#f0f921"
            ]
           ]
          },
          "colorway": [
           "#636efa",
           "#EF553B",
           "#00cc96",
           "#ab63fa",
           "#FFA15A",
           "#19d3f3",
           "#FF6692",
           "#B6E880",
           "#FF97FF",
           "#FECB52"
          ],
          "font": {
           "color": "#2a3f5f"
          },
          "geo": {
           "bgcolor": "white",
           "lakecolor": "white",
           "landcolor": "#E5ECF6",
           "showlakes": true,
           "showland": true,
           "subunitcolor": "white"
          },
          "hoverlabel": {
           "align": "left"
          },
          "hovermode": "closest",
          "mapbox": {
           "style": "light"
          },
          "paper_bgcolor": "white",
          "plot_bgcolor": "#E5ECF6",
          "polar": {
           "angularaxis": {
            "gridcolor": "white",
            "linecolor": "white",
            "ticks": ""
           },
           "bgcolor": "#E5ECF6",
           "radialaxis": {
            "gridcolor": "white",
            "linecolor": "white",
            "ticks": ""
           }
          },
          "scene": {
           "xaxis": {
            "backgroundcolor": "#E5ECF6",
            "gridcolor": "white",
            "gridwidth": 2,
            "linecolor": "white",
            "showbackground": true,
            "ticks": "",
            "zerolinecolor": "white"
           },
           "yaxis": {
            "backgroundcolor": "#E5ECF6",
            "gridcolor": "white",
            "gridwidth": 2,
            "linecolor": "white",
            "showbackground": true,
            "ticks": "",
            "zerolinecolor": "white"
           },
           "zaxis": {
            "backgroundcolor": "#E5ECF6",
            "gridcolor": "white",
            "gridwidth": 2,
            "linecolor": "white",
            "showbackground": true,
            "ticks": "",
            "zerolinecolor": "white"
           }
          },
          "shapedefaults": {
           "line": {
            "color": "#2a3f5f"
           }
          },
          "ternary": {
           "aaxis": {
            "gridcolor": "white",
            "linecolor": "white",
            "ticks": ""
           },
           "baxis": {
            "gridcolor": "white",
            "linecolor": "white",
            "ticks": ""
           },
           "bgcolor": "#E5ECF6",
           "caxis": {
            "gridcolor": "white",
            "linecolor": "white",
            "ticks": ""
           }
          },
          "title": {
           "x": 0.05
          },
          "xaxis": {
           "automargin": true,
           "gridcolor": "white",
           "linecolor": "white",
           "ticks": "",
           "title": {
            "standoff": 15
           },
           "zerolinecolor": "white",
           "zerolinewidth": 2
          },
          "yaxis": {
           "automargin": true,
           "gridcolor": "white",
           "linecolor": "white",
           "ticks": "",
           "title": {
            "standoff": 15
           },
           "zerolinecolor": "white",
           "zerolinewidth": 2
          }
         }
        },
        "title": {
         "text": "Chord Diagram for Top 10 Brand Transitions (Excluding Self-Transitions)"
        }
       }
      }
     },
     "metadata": {},
     "output_type": "display_data"
    }
   ],
   "source": [
    "source = top_transitions['BRAND_TRANSITION'].apply(lambda x: x.split(' -> ')[0]).tolist()\n",
    "target = top_transitions['BRAND_TRANSITION'].apply(lambda x: x.split(' -> ')[1]).tolist()\n",
    "values = top_transitions['COUNT'].tolist()\n",
    "\n",
    "# Filtering out self-transitions where the source and target are the same\n",
    "filtered_source = []\n",
    "filtered_target = []\n",
    "filtered_values = []\n",
    "\n",
    "for s, t, v in zip(source, target, values):\n",
    "    if s != t:  # This line checks and excludes self-transitions (where source == target)\n",
    "        filtered_source.append(s)\n",
    "        filtered_target.append(t)\n",
    "        filtered_values.append(v)\n",
    "\n",
    "coolwarm = sns.color_palette(\"coolwarm\", len(filtered_values)).as_hex()\n",
    "\n",
    "fig = go.Figure(data=go.Parcats(\n",
    "    dimensions=[\n",
    "        {'label': 'Source', 'values': filtered_source},\n",
    "        {'label': 'Target', 'values': filtered_target},\n",
    "    ],\n",
    "    line={'color': filtered_values, 'colorscale': coolwarm, 'shape': 'hspline'},\n",
    "    hoveron='dimension',\n",
    "    counts=filtered_values\n",
    "))\n",
    "\n",
    "fig.update_layout(\n",
    "    title_text=\"Chord Diagram for Top 10 Brand Transitions (Excluding Self-Transitions)\",\n",
    "    font_size=10,\n",
    ")\n",
    "\n",
    "fig.show()"
   ]
  },
  {
   "cell_type": "markdown",
   "metadata": {},
   "source": [
    "# Occasion Purchasing"
   ]
  },
  {
   "cell_type": "markdown",
   "metadata": {},
   "source": [
    "##### This code identifies occasion-based purchasing behavior among customers by analyzing the sequence of device usage days. It defines short-term and long-term usage thresholds to pinpoint users who occasionally use devices for a brief period sandwiched between longer usage periods. The approach involves calculating previous and next device usage days for each customer and marking them as occasional if the current usage period is notably shorter compared to the surrounding periods. "
   ]
  },
  {
   "cell_type": "code",
   "execution_count": 38,
   "metadata": {},
   "outputs": [
    {
     "name": "stdout",
     "output_type": "stream",
     "text": [
      "Number of Occasion Purchasers: 246995\n",
      "Percentage of Occasion Purchasers: 8.31%\n"
     ]
    }
   ],
   "source": [
    "occasion_purchasing_df = df.copy()\n",
    "\n",
    "short_term_threshold = 30\n",
    "long_term_threshold = 30\n",
    "\n",
    "occasion_purchasing_df.loc[:, 'PREV_DAYS_USED'] = occasion_purchasing_df.groupby('ID')['DAYS_USED'].shift(1)\n",
    "occasion_purchasing_df.loc[:, 'NEXT_DAYS_USED'] = occasion_purchasing_df.groupby('ID')['DAYS_USED'].shift(-1)\n",
    "\n",
    "occasion_purchasing_df.loc[:, 'IS_OCCASIONAL'] = (\n",
    "    (occasion_purchasing_df['PREV_DAYS_USED'] > long_term_threshold) & \n",
    "    (occasion_purchasing_df['DAYS_USED'] < short_term_threshold) & \n",
    "    (occasion_purchasing_df['NEXT_DAYS_USED'] > long_term_threshold)\n",
    ")\n",
    "\n",
    "occasion_purchasers_df = occasion_purchasing_df[occasion_purchasing_df['IS_OCCASIONAL']].copy()\n",
    "occasion_purchasers_df.loc[:, 'CATEGORY'] = 'Occasion Purchasing'\n",
    "\n",
    "\n",
    "# Calculating number of occasion purchasers and their percentage\n",
    "num_occasion_purchasers = occasion_purchasers_df['ID'].nunique()\n",
    "total_purchasers = df['ID'].nunique()\n",
    "percentage_occasion_purchasers = (num_occasion_purchasers / total_purchasers) * 100\n",
    "\n",
    "print(f\"Number of Occasion Purchasers: {num_occasion_purchasers}\")\n",
    "print(f\"Percentage of Occasion Purchasers: {percentage_occasion_purchasers:.2f}%\")"
   ]
  },
  {
   "cell_type": "markdown",
   "metadata": {},
   "source": [
    "# Benefits Sought"
   ]
  },
  {
   "cell_type": "markdown",
   "metadata": {},
   "source": [
    "##### This code identifies customers who prioritize cutting-edge technology by filtering those who own advanced devices with specific technological features. The criteria include support for 5G, LTE, and eSIM, and devices with at least 8 CPU cores, indicating high-performance preferences. Additionally, customers who adopt new devices faster than the average, based on their average days used, are further filtered to highlight frequent upgraders within this category. "
   ]
  },
  {
   "cell_type": "code",
   "execution_count": 39,
   "metadata": {},
   "outputs": [
    {
     "name": "stdout",
     "output_type": "stream",
     "text": [
      "Number of Technology Enthusiasts: 55050\n",
      "Percentage of Technology Enthusiasts: 1.85%\n"
     ]
    }
   ],
   "source": [
    "tech_enthusiasts_df = df[\n",
    "    (df['SUPPORT_5G'] == True) &\n",
    "    (df['SUPPORTS_LTE'] == True) &\n",
    "    (df['SUPPORTS_ESIM'] == True) &\n",
    "    (df['CPU_CORES'] >= 8)\n",
    "]\n",
    "\n",
    "# Filtering by lower than average AVG_DAYS_USED for frequent upgraders\n",
    "avg_days_used_threshold = df['AVG_DAYS_USED'].mean()\n",
    "tech_enthusiasts_df = tech_enthusiasts_df[tech_enthusiasts_df['AVG_DAYS_USED'] < avg_days_used_threshold]\n",
    "\n",
    "tech_enthusiasts_df['CATEGORY'] = 'Technology Enthusiasts'\n",
    "\n",
    "# Calculating number of technology enthusiasts and their percentage\n",
    "num_tech_enthusiasts = tech_enthusiasts_df['ID'].nunique()\n",
    "total_purchasers = df['ID'].nunique()\n",
    "percentage_tech_enthusiasts = (num_tech_enthusiasts / total_purchasers) * 100\n",
    "\n",
    "print(f\"Number of Technology Enthusiasts: {num_tech_enthusiasts}\")\n",
    "print(f\"Percentage of Technology Enthusiasts: {percentage_tech_enthusiasts:.2f}%\")"
   ]
  },
  {
   "cell_type": "markdown",
   "metadata": {},
   "source": [
    "# Final data integration - merging all segments into the final dataframe.\n",
    "##### The dataframe new_df, which contains unique user IDs and their adoption category, is sequentially merged with other segmented dataframes (purchasing_behavior_df, loyalty_segments_df, tech_enthusiasts_df, occasion_purchasers_df). Each merge incorporates specific behavioral and loyalty categories, ensuring that all relevant segmentation information is consolidated into a single, comprehensive dataframe. \n",
    "##### This final merged dataframe provides a holistic view of each customer's behavior, loyalty, and purchasing patterns, enabling a robust analysis of customer segments."
   ]
  },
  {
   "cell_type": "code",
   "execution_count": 40,
   "metadata": {},
   "outputs": [],
   "source": [
    "purch_behavior = purchasing_behavior_df.sort_values(by=['ID', 'START_DATE'], ascending=[True, False]).drop_duplicates(subset=['ID'])\n",
    "\n",
    "final_df = pd.merge(\n",
    "    new_df, \n",
    "    purch_behavior[['ID', 'CATEGORY']].rename(columns={'CATEGORY': 'UPGRADE_CATEGORY'}), \n",
    "    on='ID', \n",
    "    how='left'\n",
    ")"
   ]
  },
  {
   "cell_type": "code",
   "execution_count": 41,
   "metadata": {},
   "outputs": [],
   "source": [
    "loyalty_latest = loyalty_segments_df.sort_values(by=['ID', 'START_DATE'], ascending=[True, False]).drop_duplicates(subset=['ID']) if 'START_DATE' in loyalty_segments_df.columns else loyalty_segments_df\n",
    "\n",
    "final_df = pd.merge(\n",
    "    final_df, \n",
    "    loyalty_latest[['ID', 'LOYALTY_SEGMENT']].rename(columns={'LOYALTY_SEGMENT': 'LOYALTY_CATEGORY'}), \n",
    "    on='ID', \n",
    "    how='left'\n",
    ")"
   ]
  },
  {
   "cell_type": "code",
   "execution_count": 42,
   "metadata": {},
   "outputs": [],
   "source": [
    "tech_latest = tech_enthusiasts_df.sort_values(by=['ID', 'START_DATE'], ascending=[True, False]).drop_duplicates(subset=['ID']) if 'START_DATE' in tech_enthusiasts_df.columns else tech_enthusiasts_df\n",
    "\n",
    "\n",
    "final_df = pd.merge(\n",
    "    final_df, \n",
    "    tech_latest[['ID', 'CATEGORY']].rename(columns={'CATEGORY': 'TECH_CATEGORY'}), \n",
    "    on='ID', \n",
    "    how='left'\n",
    ")"
   ]
  },
  {
   "cell_type": "code",
   "execution_count": 43,
   "metadata": {},
   "outputs": [],
   "source": [
    "occasion_latest = occasion_purchasers_df.sort_values(by=['ID', 'START_DATE'], ascending=[True, False]).drop_duplicates(subset=['ID']) if 'START_DATE' in occasion_purchasers_df.columns else occasion_purchasers_df\n",
    "\n",
    "final_df = pd.merge(\n",
    "    final_df, \n",
    "    occasion_latest[['ID', 'CATEGORY']].rename(columns={'CATEGORY': 'OCCASION_CATEGORY'}), \n",
    "    on='ID', \n",
    "    how='left'\n",
    ")"
   ]
  },
  {
   "cell_type": "code",
   "execution_count": 44,
   "metadata": {},
   "outputs": [
    {
     "data": {
      "text/plain": [
       "(2972988, 41)"
      ]
     },
     "execution_count": 44,
     "metadata": {},
     "output_type": "execute_result"
    }
   ],
   "source": [
    "# Converting `OCCASION_CATEGORY` and `TECH_CATEGORY` to binary indicators\n",
    "final_df['IS_OCCASION_PURCHASER'] = final_df['OCCASION_CATEGORY'].notna().astype(int)\n",
    "final_df['IS_TECH_ENTHUSIAST'] = final_df['TECH_CATEGORY'].notna().astype(int)\n",
    "\n",
    "final_df = final_df.drop(['OCCASION_CATEGORY', 'TECH_CATEGORY'], axis=1)\n",
    "final_df.shape"
   ]
  },
  {
   "cell_type": "code",
   "execution_count": 45,
   "metadata": {},
   "outputs": [],
   "source": [
    "del purchasing_behavior_df, loyalty_segments_df, occasion_purchasers_df, tech_enthusiasts_df"
   ]
  },
  {
   "cell_type": "code",
   "execution_count": 46,
   "metadata": {},
   "outputs": [
    {
     "data": {
      "text/html": [
       "<div>\n",
       "<style scoped>\n",
       "    .dataframe tbody tr th:only-of-type {\n",
       "        vertical-align: middle;\n",
       "    }\n",
       "\n",
       "    .dataframe tbody tr th {\n",
       "        vertical-align: top;\n",
       "    }\n",
       "\n",
       "    .dataframe thead th {\n",
       "        text-align: right;\n",
       "    }\n",
       "</style>\n",
       "<table border=\"1\" class=\"dataframe\">\n",
       "  <thead>\n",
       "    <tr style=\"text-align: right;\">\n",
       "      <th></th>\n",
       "      <th>ID</th>\n",
       "      <th>DEVICE_ID</th>\n",
       "      <th>BRAND</th>\n",
       "      <th>MODEL</th>\n",
       "      <th>NETTYPE</th>\n",
       "      <th>OS</th>\n",
       "      <th>OS_TYPE_x</th>\n",
       "      <th>DEVICE_AGE</th>\n",
       "      <th>RELEASE_DATE</th>\n",
       "      <th>START_DATE</th>\n",
       "      <th>END_DATE</th>\n",
       "      <th>DAYS_USED</th>\n",
       "      <th>AVG_DAYS_USED</th>\n",
       "      <th>SUPPORTS_LTE</th>\n",
       "      <th>SUPPORTS_VOLTE</th>\n",
       "      <th>BATTERY_CAPACITY</th>\n",
       "      <th>BATTERY_TYPE</th>\n",
       "      <th>BODY_DEPTH</th>\n",
       "      <th>BODY_HEIGHT</th>\n",
       "      <th>BODY_WIDTH</th>\n",
       "      <th>BODY_TYPE</th>\n",
       "      <th>OS_TYPE_y</th>\n",
       "      <th>OS_VENDOR</th>\n",
       "      <th>CAMERA_FLASHLIGHT</th>\n",
       "      <th>SUPPORTS_MULTISIM</th>\n",
       "      <th>SUPPORTS_ESIM</th>\n",
       "      <th>SUPPORT_5G</th>\n",
       "      <th>SIM_COUNT</th>\n",
       "      <th>CPU_CORES</th>\n",
       "      <th>MULTISIM_MODE</th>\n",
       "      <th>PIXEL_DENSITY</th>\n",
       "      <th>RAM_SIZE</th>\n",
       "      <th>BAND_1800</th>\n",
       "      <th>BAND_1900</th>\n",
       "      <th>BAND_850</th>\n",
       "      <th>BAND_900</th>\n",
       "      <th>ADOPTER_CATEGORY</th>\n",
       "      <th>UPGRADE_CATEGORY</th>\n",
       "      <th>LOYALTY_CATEGORY</th>\n",
       "      <th>IS_OCCASION_PURCHASER</th>\n",
       "      <th>IS_TECH_ENTHUSIAST</th>\n",
       "    </tr>\n",
       "  </thead>\n",
       "  <tbody>\n",
       "    <tr>\n",
       "      <th>0</th>\n",
       "      <td>1</td>\n",
       "      <td>35579407</td>\n",
       "      <td>Apple</td>\n",
       "      <td>iPhone SE</td>\n",
       "      <td>4G</td>\n",
       "      <td>iOS</td>\n",
       "      <td>smartphone</td>\n",
       "      <td>486</td>\n",
       "      <td>2016-03-01</td>\n",
       "      <td>2017-06-30</td>\n",
       "      <td>2019-10-31</td>\n",
       "      <td>882</td>\n",
       "      <td>642.5</td>\n",
       "      <td>1</td>\n",
       "      <td>0</td>\n",
       "      <td>1642.0</td>\n",
       "      <td>Li-ion</td>\n",
       "      <td>7.60</td>\n",
       "      <td>123.80</td>\n",
       "      <td>58.60</td>\n",
       "      <td>touch</td>\n",
       "      <td>iOS</td>\n",
       "      <td>Apple</td>\n",
       "      <td>1</td>\n",
       "      <td>0</td>\n",
       "      <td>0</td>\n",
       "      <td>0</td>\n",
       "      <td>1</td>\n",
       "      <td>8</td>\n",
       "      <td>Standby</td>\n",
       "      <td>326.0</td>\n",
       "      <td>2048</td>\n",
       "      <td>1</td>\n",
       "      <td>1</td>\n",
       "      <td>1</td>\n",
       "      <td>1</td>\n",
       "      <td>Mid-range Adopter</td>\n",
       "      <td>Rare Upgraders</td>\n",
       "      <td>High Loyalty</td>\n",
       "      <td>0</td>\n",
       "      <td>0</td>\n",
       "    </tr>\n",
       "    <tr>\n",
       "      <th>1</th>\n",
       "      <td>2</td>\n",
       "      <td>86221906</td>\n",
       "      <td>Xiaomi</td>\n",
       "      <td>Redmi 12</td>\n",
       "      <td>4G</td>\n",
       "      <td>Android</td>\n",
       "      <td>smartphone</td>\n",
       "      <td>392</td>\n",
       "      <td>2023-01-04</td>\n",
       "      <td>2024-01-31</td>\n",
       "      <td>2024-07-12</td>\n",
       "      <td>193</td>\n",
       "      <td>226.1</td>\n",
       "      <td>1</td>\n",
       "      <td>1</td>\n",
       "      <td>5000.0</td>\n",
       "      <td>Li-ion</td>\n",
       "      <td>8.17</td>\n",
       "      <td>168.60</td>\n",
       "      <td>76.28</td>\n",
       "      <td>touch</td>\n",
       "      <td>Android</td>\n",
       "      <td>Google</td>\n",
       "      <td>0</td>\n",
       "      <td>1</td>\n",
       "      <td>0</td>\n",
       "      <td>0</td>\n",
       "      <td>2</td>\n",
       "      <td>8</td>\n",
       "      <td>dual standby</td>\n",
       "      <td>396.0</td>\n",
       "      <td>4096</td>\n",
       "      <td>1</td>\n",
       "      <td>1</td>\n",
       "      <td>1</td>\n",
       "      <td>1</td>\n",
       "      <td>Mid-range Adopter</td>\n",
       "      <td>Super Frequent Upgraders</td>\n",
       "      <td>Low Loyalty</td>\n",
       "      <td>0</td>\n",
       "      <td>0</td>\n",
       "    </tr>\n",
       "    <tr>\n",
       "      <th>2</th>\n",
       "      <td>5</td>\n",
       "      <td>86095705</td>\n",
       "      <td>Xiaomi</td>\n",
       "      <td>Redmi 9</td>\n",
       "      <td>4G</td>\n",
       "      <td>Android</td>\n",
       "      <td>smartphone</td>\n",
       "      <td>1247</td>\n",
       "      <td>2020-04-01</td>\n",
       "      <td>2023-08-31</td>\n",
       "      <td>2024-07-12</td>\n",
       "      <td>346</td>\n",
       "      <td>645.2</td>\n",
       "      <td>1</td>\n",
       "      <td>1</td>\n",
       "      <td>5020.0</td>\n",
       "      <td>Li-ion</td>\n",
       "      <td>9.10</td>\n",
       "      <td>163.32</td>\n",
       "      <td>77.01</td>\n",
       "      <td>touch</td>\n",
       "      <td>Android</td>\n",
       "      <td>Google</td>\n",
       "      <td>1</td>\n",
       "      <td>1</td>\n",
       "      <td>0</td>\n",
       "      <td>0</td>\n",
       "      <td>2</td>\n",
       "      <td>8</td>\n",
       "      <td>Standby</td>\n",
       "      <td>395.0</td>\n",
       "      <td>3072</td>\n",
       "      <td>1</td>\n",
       "      <td>1</td>\n",
       "      <td>1</td>\n",
       "      <td>1</td>\n",
       "      <td>Late Adopter</td>\n",
       "      <td>Moderate Upgraders</td>\n",
       "      <td>High Loyalty</td>\n",
       "      <td>0</td>\n",
       "      <td>0</td>\n",
       "    </tr>\n",
       "    <tr>\n",
       "      <th>3</th>\n",
       "      <td>6</td>\n",
       "      <td>86252506</td>\n",
       "      <td>Xiaomi</td>\n",
       "      <td>Redmi 9C</td>\n",
       "      <td>4G</td>\n",
       "      <td>Android</td>\n",
       "      <td>smartphone</td>\n",
       "      <td>791</td>\n",
       "      <td>2020-07-31</td>\n",
       "      <td>2022-09-30</td>\n",
       "      <td>2024-07-12</td>\n",
       "      <td>680</td>\n",
       "      <td>559.1</td>\n",
       "      <td>1</td>\n",
       "      <td>1</td>\n",
       "      <td>5000.0</td>\n",
       "      <td>Li-polymer</td>\n",
       "      <td>9.00</td>\n",
       "      <td>164.90</td>\n",
       "      <td>77.00</td>\n",
       "      <td>touch</td>\n",
       "      <td>Android</td>\n",
       "      <td>Google</td>\n",
       "      <td>1</td>\n",
       "      <td>1</td>\n",
       "      <td>0</td>\n",
       "      <td>0</td>\n",
       "      <td>2</td>\n",
       "      <td>8</td>\n",
       "      <td>dual standby</td>\n",
       "      <td>269.0</td>\n",
       "      <td>2048</td>\n",
       "      <td>1</td>\n",
       "      <td>1</td>\n",
       "      <td>1</td>\n",
       "      <td>1</td>\n",
       "      <td>Late Adopter</td>\n",
       "      <td>Moderate Upgraders</td>\n",
       "      <td>Low Loyalty</td>\n",
       "      <td>0</td>\n",
       "      <td>0</td>\n",
       "    </tr>\n",
       "    <tr>\n",
       "      <th>4</th>\n",
       "      <td>7</td>\n",
       "      <td>35657309</td>\n",
       "      <td>Samsung</td>\n",
       "      <td>Galaxy A3 2017</td>\n",
       "      <td>4G</td>\n",
       "      <td>Android</td>\n",
       "      <td>smartphone</td>\n",
       "      <td>2310</td>\n",
       "      <td>2017-01-01</td>\n",
       "      <td>2023-04-30</td>\n",
       "      <td>2024-07-12</td>\n",
       "      <td>468</td>\n",
       "      <td>730.3</td>\n",
       "      <td>1</td>\n",
       "      <td>0</td>\n",
       "      <td>2350.0</td>\n",
       "      <td>Li-ion</td>\n",
       "      <td>7.90</td>\n",
       "      <td>135.40</td>\n",
       "      <td>66.20</td>\n",
       "      <td>touch</td>\n",
       "      <td>Android</td>\n",
       "      <td>Google</td>\n",
       "      <td>1</td>\n",
       "      <td>0</td>\n",
       "      <td>0</td>\n",
       "      <td>0</td>\n",
       "      <td>1</td>\n",
       "      <td>8</td>\n",
       "      <td>Standby</td>\n",
       "      <td>312.0</td>\n",
       "      <td>2048</td>\n",
       "      <td>1</td>\n",
       "      <td>1</td>\n",
       "      <td>1</td>\n",
       "      <td>1</td>\n",
       "      <td>Laggard</td>\n",
       "      <td>Moderate Upgraders</td>\n",
       "      <td>High Loyalty</td>\n",
       "      <td>0</td>\n",
       "      <td>0</td>\n",
       "    </tr>\n",
       "  </tbody>\n",
       "</table>\n",
       "</div>"
      ],
      "text/plain": [
       "   ID  DEVICE_ID    BRAND           MODEL NETTYPE       OS   OS_TYPE_x  \\\n",
       "0   1   35579407    Apple       iPhone SE      4G      iOS  smartphone   \n",
       "1   2   86221906   Xiaomi        Redmi 12      4G  Android  smartphone   \n",
       "2   5   86095705   Xiaomi         Redmi 9      4G  Android  smartphone   \n",
       "3   6   86252506   Xiaomi        Redmi 9C      4G  Android  smartphone   \n",
       "4   7   35657309  Samsung  Galaxy A3 2017      4G  Android  smartphone   \n",
       "\n",
       "   DEVICE_AGE RELEASE_DATE START_DATE    END_DATE  DAYS_USED  AVG_DAYS_USED  \\\n",
       "0         486   2016-03-01 2017-06-30  2019-10-31        882          642.5   \n",
       "1         392   2023-01-04 2024-01-31  2024-07-12        193          226.1   \n",
       "2        1247   2020-04-01 2023-08-31  2024-07-12        346          645.2   \n",
       "3         791   2020-07-31 2022-09-30  2024-07-12        680          559.1   \n",
       "4        2310   2017-01-01 2023-04-30  2024-07-12        468          730.3   \n",
       "\n",
       "   SUPPORTS_LTE  SUPPORTS_VOLTE  BATTERY_CAPACITY BATTERY_TYPE  BODY_DEPTH  \\\n",
       "0             1               0            1642.0       Li-ion        7.60   \n",
       "1             1               1            5000.0       Li-ion        8.17   \n",
       "2             1               1            5020.0       Li-ion        9.10   \n",
       "3             1               1            5000.0   Li-polymer        9.00   \n",
       "4             1               0            2350.0       Li-ion        7.90   \n",
       "\n",
       "   BODY_HEIGHT  BODY_WIDTH BODY_TYPE OS_TYPE_y OS_VENDOR  CAMERA_FLASHLIGHT  \\\n",
       "0       123.80       58.60     touch       iOS     Apple                  1   \n",
       "1       168.60       76.28     touch   Android    Google                  0   \n",
       "2       163.32       77.01     touch   Android    Google                  1   \n",
       "3       164.90       77.00     touch   Android    Google                  1   \n",
       "4       135.40       66.20     touch   Android    Google                  1   \n",
       "\n",
       "   SUPPORTS_MULTISIM  SUPPORTS_ESIM  SUPPORT_5G  SIM_COUNT  CPU_CORES  \\\n",
       "0                  0              0           0          1          8   \n",
       "1                  1              0           0          2          8   \n",
       "2                  1              0           0          2          8   \n",
       "3                  1              0           0          2          8   \n",
       "4                  0              0           0          1          8   \n",
       "\n",
       "  MULTISIM_MODE  PIXEL_DENSITY  RAM_SIZE  BAND_1800  BAND_1900  BAND_850  \\\n",
       "0       Standby          326.0      2048          1          1         1   \n",
       "1  dual standby          396.0      4096          1          1         1   \n",
       "2       Standby          395.0      3072          1          1         1   \n",
       "3  dual standby          269.0      2048          1          1         1   \n",
       "4       Standby          312.0      2048          1          1         1   \n",
       "\n",
       "   BAND_900   ADOPTER_CATEGORY          UPGRADE_CATEGORY LOYALTY_CATEGORY  \\\n",
       "0         1  Mid-range Adopter            Rare Upgraders     High Loyalty   \n",
       "1         1  Mid-range Adopter  Super Frequent Upgraders      Low Loyalty   \n",
       "2         1       Late Adopter        Moderate Upgraders     High Loyalty   \n",
       "3         1       Late Adopter        Moderate Upgraders      Low Loyalty   \n",
       "4         1            Laggard        Moderate Upgraders     High Loyalty   \n",
       "\n",
       "   IS_OCCASION_PURCHASER  IS_TECH_ENTHUSIAST  \n",
       "0                      0                   0  \n",
       "1                      0                   0  \n",
       "2                      0                   0  \n",
       "3                      0                   0  \n",
       "4                      0                   0  "
      ]
     },
     "execution_count": 46,
     "metadata": {},
     "output_type": "execute_result"
    }
   ],
   "source": [
    "final_df.head()\n"
   ]
  },
  {
   "cell_type": "code",
   "execution_count": 47,
   "metadata": {},
   "outputs": [
    {
     "data": {
      "text/html": [
       "<div>\n",
       "<style scoped>\n",
       "    .dataframe tbody tr th:only-of-type {\n",
       "        vertical-align: middle;\n",
       "    }\n",
       "\n",
       "    .dataframe tbody tr th {\n",
       "        vertical-align: top;\n",
       "    }\n",
       "\n",
       "    .dataframe thead th {\n",
       "        text-align: right;\n",
       "    }\n",
       "</style>\n",
       "<table border=\"1\" class=\"dataframe\">\n",
       "  <thead>\n",
       "    <tr style=\"text-align: right;\">\n",
       "      <th></th>\n",
       "      <th>ID</th>\n",
       "      <th>DEVICE_ID</th>\n",
       "      <th>BRAND</th>\n",
       "      <th>MODEL</th>\n",
       "      <th>NETTYPE</th>\n",
       "      <th>OS</th>\n",
       "      <th>OS_TYPE_x</th>\n",
       "      <th>START_DATE</th>\n",
       "      <th>END_DATE</th>\n",
       "      <th>DAYS_USED</th>\n",
       "      <th>AVG_DAYS_USED</th>\n",
       "      <th>SUPPORTS_LTE</th>\n",
       "      <th>SUPPORTS_VOLTE</th>\n",
       "      <th>BATTERY_CAPACITY</th>\n",
       "      <th>BATTERY_TYPE</th>\n",
       "      <th>BODY_DEPTH</th>\n",
       "      <th>BODY_HEIGHT</th>\n",
       "      <th>BODY_WIDTH</th>\n",
       "      <th>BODY_TYPE</th>\n",
       "      <th>OS_TYPE_y</th>\n",
       "      <th>OS_VENDOR</th>\n",
       "      <th>CAMERA_FLASHLIGHT</th>\n",
       "      <th>SUPPORTS_MULTISIM</th>\n",
       "      <th>SUPPORTS_ESIM</th>\n",
       "      <th>SUPPORT_5G</th>\n",
       "      <th>SIM_COUNT</th>\n",
       "      <th>CPU_CORES</th>\n",
       "      <th>MULTISIM_MODE</th>\n",
       "      <th>PIXEL_DENSITY</th>\n",
       "      <th>RAM_SIZE</th>\n",
       "      <th>RELEASE_DATE</th>\n",
       "      <th>BAND_1800</th>\n",
       "      <th>BAND_1900</th>\n",
       "      <th>BAND_850</th>\n",
       "      <th>BAND_900</th>\n",
       "      <th>DEVICE_AGE</th>\n",
       "      <th>DEVICE_COUNT</th>\n",
       "    </tr>\n",
       "  </thead>\n",
       "  <tbody>\n",
       "    <tr>\n",
       "      <th>1001455</th>\n",
       "      <td>2738751</td>\n",
       "      <td>35441105</td>\n",
       "      <td>Samsung</td>\n",
       "      <td>Galaxy S II Lite</td>\n",
       "      <td>3G</td>\n",
       "      <td>Android</td>\n",
       "      <td>smartphone</td>\n",
       "      <td>2016-11-30</td>\n",
       "      <td>2017-11-30</td>\n",
       "      <td>394</td>\n",
       "      <td>460.0</td>\n",
       "      <td>0</td>\n",
       "      <td>0</td>\n",
       "      <td>1500.0</td>\n",
       "      <td>Li-ion</td>\n",
       "      <td>9.69</td>\n",
       "      <td>123.20</td>\n",
       "      <td>63.0</td>\n",
       "      <td>touch</td>\n",
       "      <td>Android</td>\n",
       "      <td>Google</td>\n",
       "      <td>1</td>\n",
       "      <td>0</td>\n",
       "      <td>0</td>\n",
       "      <td>0</td>\n",
       "      <td>1</td>\n",
       "      <td>8</td>\n",
       "      <td>Standby</td>\n",
       "      <td>233.0</td>\n",
       "      <td>768</td>\n",
       "      <td>2012-01-01</td>\n",
       "      <td>1</td>\n",
       "      <td>1</td>\n",
       "      <td>1</td>\n",
       "      <td>1</td>\n",
       "      <td>1795</td>\n",
       "      <td>6</td>\n",
       "    </tr>\n",
       "    <tr>\n",
       "      <th>2488236</th>\n",
       "      <td>2738751</td>\n",
       "      <td>35960910</td>\n",
       "      <td>Samsung</td>\n",
       "      <td>Galaxy A40 Dual</td>\n",
       "      <td>4G</td>\n",
       "      <td>Android</td>\n",
       "      <td>smartphone</td>\n",
       "      <td>2019-10-31</td>\n",
       "      <td>2020-05-31</td>\n",
       "      <td>243</td>\n",
       "      <td>737.9</td>\n",
       "      <td>1</td>\n",
       "      <td>1</td>\n",
       "      <td>3100.0</td>\n",
       "      <td>Li-polymer</td>\n",
       "      <td>7.90</td>\n",
       "      <td>144.30</td>\n",
       "      <td>69.1</td>\n",
       "      <td>touch</td>\n",
       "      <td>Android</td>\n",
       "      <td>Google</td>\n",
       "      <td>1</td>\n",
       "      <td>1</td>\n",
       "      <td>0</td>\n",
       "      <td>0</td>\n",
       "      <td>2</td>\n",
       "      <td>8</td>\n",
       "      <td>dual standby</td>\n",
       "      <td>428.0</td>\n",
       "      <td>4096</td>\n",
       "      <td>2019-04-01</td>\n",
       "      <td>1</td>\n",
       "      <td>1</td>\n",
       "      <td>1</td>\n",
       "      <td>1</td>\n",
       "      <td>213</td>\n",
       "      <td>6</td>\n",
       "    </tr>\n",
       "    <tr>\n",
       "      <th>5165365</th>\n",
       "      <td>2738751</td>\n",
       "      <td>35733606</td>\n",
       "      <td>HTC</td>\n",
       "      <td>One M8</td>\n",
       "      <td>4G</td>\n",
       "      <td>Android</td>\n",
       "      <td>smartphone</td>\n",
       "      <td>2017-08-31</td>\n",
       "      <td>2017-10-31</td>\n",
       "      <td>91</td>\n",
       "      <td>581.8</td>\n",
       "      <td>1</td>\n",
       "      <td>1</td>\n",
       "      <td>2600.0</td>\n",
       "      <td>Li-polymer</td>\n",
       "      <td>9.35</td>\n",
       "      <td>146.36</td>\n",
       "      <td>70.6</td>\n",
       "      <td>touch</td>\n",
       "      <td>Android</td>\n",
       "      <td>Google</td>\n",
       "      <td>1</td>\n",
       "      <td>0</td>\n",
       "      <td>0</td>\n",
       "      <td>0</td>\n",
       "      <td>1</td>\n",
       "      <td>4</td>\n",
       "      <td>Standby</td>\n",
       "      <td>441.0</td>\n",
       "      <td>2048</td>\n",
       "      <td>2014-03-01</td>\n",
       "      <td>1</td>\n",
       "      <td>1</td>\n",
       "      <td>1</td>\n",
       "      <td>1</td>\n",
       "      <td>1279</td>\n",
       "      <td>6</td>\n",
       "    </tr>\n",
       "    <tr>\n",
       "      <th>6485653</th>\n",
       "      <td>2738751</td>\n",
       "      <td>86610503</td>\n",
       "      <td>Huawei</td>\n",
       "      <td>Honor 7X</td>\n",
       "      <td>4G</td>\n",
       "      <td>Android</td>\n",
       "      <td>smartphone</td>\n",
       "      <td>2017-12-31</td>\n",
       "      <td>2020-06-30</td>\n",
       "      <td>942</td>\n",
       "      <td>710.4</td>\n",
       "      <td>1</td>\n",
       "      <td>1</td>\n",
       "      <td>3240.0</td>\n",
       "      <td>Li-ion</td>\n",
       "      <td>7.60</td>\n",
       "      <td>156.50</td>\n",
       "      <td>75.3</td>\n",
       "      <td>touch</td>\n",
       "      <td>Android</td>\n",
       "      <td>Google</td>\n",
       "      <td>1</td>\n",
       "      <td>1</td>\n",
       "      <td>0</td>\n",
       "      <td>0</td>\n",
       "      <td>2</td>\n",
       "      <td>8</td>\n",
       "      <td>Standby</td>\n",
       "      <td>407.0</td>\n",
       "      <td>4096</td>\n",
       "      <td>2017-10-01</td>\n",
       "      <td>1</td>\n",
       "      <td>1</td>\n",
       "      <td>1</td>\n",
       "      <td>1</td>\n",
       "      <td>91</td>\n",
       "      <td>6</td>\n",
       "    </tr>\n",
       "    <tr>\n",
       "      <th>9870489</th>\n",
       "      <td>2738751</td>\n",
       "      <td>35700428</td>\n",
       "      <td>Apple</td>\n",
       "      <td>iPhone 15</td>\n",
       "      <td>5G</td>\n",
       "      <td>iOS</td>\n",
       "      <td>smartphone</td>\n",
       "      <td>2023-10-31</td>\n",
       "      <td>2024-07-12</td>\n",
       "      <td>285</td>\n",
       "      <td>154.5</td>\n",
       "      <td>1</td>\n",
       "      <td>1</td>\n",
       "      <td>3349.0</td>\n",
       "      <td>Li-polymer</td>\n",
       "      <td>7.80</td>\n",
       "      <td>147.60</td>\n",
       "      <td>71.6</td>\n",
       "      <td>touch</td>\n",
       "      <td>iOS</td>\n",
       "      <td>Apple</td>\n",
       "      <td>1</td>\n",
       "      <td>1</td>\n",
       "      <td>1</td>\n",
       "      <td>1</td>\n",
       "      <td>0</td>\n",
       "      <td>6</td>\n",
       "      <td>Standby</td>\n",
       "      <td>461.0</td>\n",
       "      <td>6144</td>\n",
       "      <td>2023-09-12</td>\n",
       "      <td>1</td>\n",
       "      <td>1</td>\n",
       "      <td>1</td>\n",
       "      <td>1</td>\n",
       "      <td>49</td>\n",
       "      <td>6</td>\n",
       "    </tr>\n",
       "    <tr>\n",
       "      <th>9892439</th>\n",
       "      <td>2738751</td>\n",
       "      <td>35290811</td>\n",
       "      <td>Apple</td>\n",
       "      <td>iPhone 11</td>\n",
       "      <td>4G</td>\n",
       "      <td>iOS</td>\n",
       "      <td>smartphone</td>\n",
       "      <td>2020-07-31</td>\n",
       "      <td>2023-09-30</td>\n",
       "      <td>1186</td>\n",
       "      <td>543.8</td>\n",
       "      <td>1</td>\n",
       "      <td>1</td>\n",
       "      <td>3110.0</td>\n",
       "      <td>Li-ion</td>\n",
       "      <td>8.30</td>\n",
       "      <td>150.90</td>\n",
       "      <td>75.7</td>\n",
       "      <td>touch</td>\n",
       "      <td>Apple iOS</td>\n",
       "      <td>Apple</td>\n",
       "      <td>1</td>\n",
       "      <td>1</td>\n",
       "      <td>1</td>\n",
       "      <td>0</td>\n",
       "      <td>1</td>\n",
       "      <td>8</td>\n",
       "      <td>Standby</td>\n",
       "      <td>324.0</td>\n",
       "      <td>4096</td>\n",
       "      <td>2019-09-11</td>\n",
       "      <td>1</td>\n",
       "      <td>1</td>\n",
       "      <td>1</td>\n",
       "      <td>1</td>\n",
       "      <td>324</td>\n",
       "      <td>6</td>\n",
       "    </tr>\n",
       "  </tbody>\n",
       "</table>\n",
       "</div>"
      ],
      "text/plain": [
       "              ID  DEVICE_ID    BRAND             MODEL NETTYPE       OS  \\\n",
       "1001455  2738751   35441105  Samsung  Galaxy S II Lite      3G  Android   \n",
       "2488236  2738751   35960910  Samsung   Galaxy A40 Dual      4G  Android   \n",
       "5165365  2738751   35733606      HTC            One M8      4G  Android   \n",
       "6485653  2738751   86610503   Huawei          Honor 7X      4G  Android   \n",
       "9870489  2738751   35700428    Apple         iPhone 15      5G      iOS   \n",
       "9892439  2738751   35290811    Apple         iPhone 11      4G      iOS   \n",
       "\n",
       "          OS_TYPE_x START_DATE    END_DATE  DAYS_USED  AVG_DAYS_USED  \\\n",
       "1001455  smartphone 2016-11-30  2017-11-30        394          460.0   \n",
       "2488236  smartphone 2019-10-31  2020-05-31        243          737.9   \n",
       "5165365  smartphone 2017-08-31  2017-10-31         91          581.8   \n",
       "6485653  smartphone 2017-12-31  2020-06-30        942          710.4   \n",
       "9870489  smartphone 2023-10-31  2024-07-12        285          154.5   \n",
       "9892439  smartphone 2020-07-31  2023-09-30       1186          543.8   \n",
       "\n",
       "         SUPPORTS_LTE  SUPPORTS_VOLTE  BATTERY_CAPACITY BATTERY_TYPE  \\\n",
       "1001455             0               0            1500.0       Li-ion   \n",
       "2488236             1               1            3100.0   Li-polymer   \n",
       "5165365             1               1            2600.0   Li-polymer   \n",
       "6485653             1               1            3240.0       Li-ion   \n",
       "9870489             1               1            3349.0   Li-polymer   \n",
       "9892439             1               1            3110.0       Li-ion   \n",
       "\n",
       "         BODY_DEPTH  BODY_HEIGHT  BODY_WIDTH BODY_TYPE  OS_TYPE_y OS_VENDOR  \\\n",
       "1001455        9.69       123.20        63.0     touch    Android    Google   \n",
       "2488236        7.90       144.30        69.1     touch    Android    Google   \n",
       "5165365        9.35       146.36        70.6     touch    Android    Google   \n",
       "6485653        7.60       156.50        75.3     touch    Android    Google   \n",
       "9870489        7.80       147.60        71.6     touch        iOS     Apple   \n",
       "9892439        8.30       150.90        75.7     touch  Apple iOS     Apple   \n",
       "\n",
       "         CAMERA_FLASHLIGHT  SUPPORTS_MULTISIM  SUPPORTS_ESIM  SUPPORT_5G  \\\n",
       "1001455                  1                  0              0           0   \n",
       "2488236                  1                  1              0           0   \n",
       "5165365                  1                  0              0           0   \n",
       "6485653                  1                  1              0           0   \n",
       "9870489                  1                  1              1           1   \n",
       "9892439                  1                  1              1           0   \n",
       "\n",
       "         SIM_COUNT  CPU_CORES MULTISIM_MODE  PIXEL_DENSITY  RAM_SIZE  \\\n",
       "1001455          1          8       Standby          233.0       768   \n",
       "2488236          2          8  dual standby          428.0      4096   \n",
       "5165365          1          4       Standby          441.0      2048   \n",
       "6485653          2          8       Standby          407.0      4096   \n",
       "9870489          0          6       Standby          461.0      6144   \n",
       "9892439          1          8       Standby          324.0      4096   \n",
       "\n",
       "        RELEASE_DATE  BAND_1800  BAND_1900  BAND_850  BAND_900  DEVICE_AGE  \\\n",
       "1001455   2012-01-01          1          1         1         1        1795   \n",
       "2488236   2019-04-01          1          1         1         1         213   \n",
       "5165365   2014-03-01          1          1         1         1        1279   \n",
       "6485653   2017-10-01          1          1         1         1          91   \n",
       "9870489   2023-09-12          1          1         1         1          49   \n",
       "9892439   2019-09-11          1          1         1         1         324   \n",
       "\n",
       "         DEVICE_COUNT  \n",
       "1001455             6  \n",
       "2488236             6  \n",
       "5165365             6  \n",
       "6485653             6  \n",
       "9870489             6  \n",
       "9892439             6  "
      ]
     },
     "execution_count": 47,
     "metadata": {},
     "output_type": "execute_result"
    }
   ],
   "source": [
    "df[df['ID'] == 2738751]"
   ]
  },
  {
   "cell_type": "code",
   "execution_count": 48,
   "metadata": {},
   "outputs": [
    {
     "data": {
      "text/html": [
       "<div>\n",
       "<style scoped>\n",
       "    .dataframe tbody tr th:only-of-type {\n",
       "        vertical-align: middle;\n",
       "    }\n",
       "\n",
       "    .dataframe tbody tr th {\n",
       "        vertical-align: top;\n",
       "    }\n",
       "\n",
       "    .dataframe thead th {\n",
       "        text-align: right;\n",
       "    }\n",
       "</style>\n",
       "<table border=\"1\" class=\"dataframe\">\n",
       "  <thead>\n",
       "    <tr style=\"text-align: right;\">\n",
       "      <th></th>\n",
       "      <th>ID</th>\n",
       "      <th>DEVICE_ID</th>\n",
       "      <th>BRAND</th>\n",
       "      <th>MODEL</th>\n",
       "      <th>NETTYPE</th>\n",
       "      <th>OS</th>\n",
       "      <th>OS_TYPE_x</th>\n",
       "      <th>DEVICE_AGE</th>\n",
       "      <th>RELEASE_DATE</th>\n",
       "      <th>START_DATE</th>\n",
       "      <th>END_DATE</th>\n",
       "      <th>DAYS_USED</th>\n",
       "      <th>AVG_DAYS_USED</th>\n",
       "      <th>SUPPORTS_LTE</th>\n",
       "      <th>SUPPORTS_VOLTE</th>\n",
       "      <th>BATTERY_CAPACITY</th>\n",
       "      <th>BATTERY_TYPE</th>\n",
       "      <th>BODY_DEPTH</th>\n",
       "      <th>BODY_HEIGHT</th>\n",
       "      <th>BODY_WIDTH</th>\n",
       "      <th>BODY_TYPE</th>\n",
       "      <th>OS_TYPE_y</th>\n",
       "      <th>OS_VENDOR</th>\n",
       "      <th>CAMERA_FLASHLIGHT</th>\n",
       "      <th>SUPPORTS_MULTISIM</th>\n",
       "      <th>SUPPORTS_ESIM</th>\n",
       "      <th>SUPPORT_5G</th>\n",
       "      <th>SIM_COUNT</th>\n",
       "      <th>CPU_CORES</th>\n",
       "      <th>MULTISIM_MODE</th>\n",
       "      <th>PIXEL_DENSITY</th>\n",
       "      <th>RAM_SIZE</th>\n",
       "      <th>BAND_1800</th>\n",
       "      <th>BAND_1900</th>\n",
       "      <th>BAND_850</th>\n",
       "      <th>BAND_900</th>\n",
       "      <th>ADOPTER_CATEGORY</th>\n",
       "      <th>UPGRADE_CATEGORY</th>\n",
       "      <th>LOYALTY_CATEGORY</th>\n",
       "      <th>IS_OCCASION_PURCHASER</th>\n",
       "      <th>IS_TECH_ENTHUSIAST</th>\n",
       "    </tr>\n",
       "  </thead>\n",
       "  <tbody>\n",
       "    <tr>\n",
       "      <th>1665384</th>\n",
       "      <td>2738751</td>\n",
       "      <td>35700428</td>\n",
       "      <td>Apple</td>\n",
       "      <td>iPhone 15</td>\n",
       "      <td>5G</td>\n",
       "      <td>iOS</td>\n",
       "      <td>smartphone</td>\n",
       "      <td>49</td>\n",
       "      <td>2023-09-12</td>\n",
       "      <td>2023-10-31</td>\n",
       "      <td>2024-07-12</td>\n",
       "      <td>285</td>\n",
       "      <td>154.5</td>\n",
       "      <td>1</td>\n",
       "      <td>1</td>\n",
       "      <td>3349.0</td>\n",
       "      <td>Li-polymer</td>\n",
       "      <td>7.8</td>\n",
       "      <td>147.6</td>\n",
       "      <td>71.6</td>\n",
       "      <td>touch</td>\n",
       "      <td>iOS</td>\n",
       "      <td>Apple</td>\n",
       "      <td>1</td>\n",
       "      <td>1</td>\n",
       "      <td>1</td>\n",
       "      <td>1</td>\n",
       "      <td>0</td>\n",
       "      <td>6</td>\n",
       "      <td>Standby</td>\n",
       "      <td>461.0</td>\n",
       "      <td>6144</td>\n",
       "      <td>1</td>\n",
       "      <td>1</td>\n",
       "      <td>1</td>\n",
       "      <td>1</td>\n",
       "      <td>Innovator</td>\n",
       "      <td>Super Frequent Upgraders</td>\n",
       "      <td>Low Loyalty</td>\n",
       "      <td>0</td>\n",
       "      <td>0</td>\n",
       "    </tr>\n",
       "  </tbody>\n",
       "</table>\n",
       "</div>"
      ],
      "text/plain": [
       "              ID  DEVICE_ID  BRAND      MODEL NETTYPE   OS   OS_TYPE_x  \\\n",
       "1665384  2738751   35700428  Apple  iPhone 15      5G  iOS  smartphone   \n",
       "\n",
       "         DEVICE_AGE RELEASE_DATE START_DATE    END_DATE  DAYS_USED  \\\n",
       "1665384          49   2023-09-12 2023-10-31  2024-07-12        285   \n",
       "\n",
       "         AVG_DAYS_USED  SUPPORTS_LTE  SUPPORTS_VOLTE  BATTERY_CAPACITY  \\\n",
       "1665384          154.5             1               1            3349.0   \n",
       "\n",
       "        BATTERY_TYPE  BODY_DEPTH  BODY_HEIGHT  BODY_WIDTH BODY_TYPE OS_TYPE_y  \\\n",
       "1665384   Li-polymer         7.8        147.6        71.6     touch       iOS   \n",
       "\n",
       "        OS_VENDOR  CAMERA_FLASHLIGHT  SUPPORTS_MULTISIM  SUPPORTS_ESIM  \\\n",
       "1665384     Apple                  1                  1              1   \n",
       "\n",
       "         SUPPORT_5G  SIM_COUNT  CPU_CORES MULTISIM_MODE  PIXEL_DENSITY  \\\n",
       "1665384           1          0          6       Standby          461.0   \n",
       "\n",
       "         RAM_SIZE  BAND_1800  BAND_1900  BAND_850  BAND_900 ADOPTER_CATEGORY  \\\n",
       "1665384      6144          1          1         1         1        Innovator   \n",
       "\n",
       "                 UPGRADE_CATEGORY LOYALTY_CATEGORY  IS_OCCASION_PURCHASER  \\\n",
       "1665384  Super Frequent Upgraders      Low Loyalty                      0   \n",
       "\n",
       "         IS_TECH_ENTHUSIAST  \n",
       "1665384                   0  "
      ]
     },
     "execution_count": 48,
     "metadata": {},
     "output_type": "execute_result"
    },
    {
     "ename": "",
     "evalue": "",
     "output_type": "error",
     "traceback": [
      "\u001b[1;31mThe Kernel crashed while executing code in the current cell or a previous cell. \n",
      "\u001b[1;31mPlease review the code in the cell(s) to identify a possible cause of the failure. \n",
      "\u001b[1;31mClick <a href='https://aka.ms/vscodeJupyterKernelCrash'>here</a> for more info. \n",
      "\u001b[1;31mView Jupyter <a href='command:jupyter.viewOutput'>log</a> for further details."
     ]
    }
   ],
   "source": [
    "final_df[final_df['ID'] == 2738751]"
   ]
  },
  {
   "cell_type": "code",
   "execution_count": null,
   "metadata": {},
   "outputs": [],
   "source": []
  }
 ],
 "metadata": {
  "kernelspec": {
   "display_name": "Python 3 (ipykernel)",
   "language": "python",
   "name": "python3"
  },
  "language_info": {
   "codemirror_mode": {
    "name": "ipython",
    "version": 3
   },
   "file_extension": ".py",
   "mimetype": "text/x-python",
   "name": "python",
   "nbconvert_exporter": "python",
   "pygments_lexer": "ipython3",
   "version": "3.11.1"
  }
 },
 "nbformat": 4,
 "nbformat_minor": 4
}
